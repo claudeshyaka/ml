{
 "cells": [
  {
   "cell_type": "markdown",
   "id": "975252d8-79eb-42db-8cad-adf8274ce077",
   "metadata": {},
   "source": [
    "### Claude Shyaka\n",
    "### ID#: 801326243\n",
    "\n",
    "# Homework 1: Estimate Housing Price Using Linear Regression With Gradient Descent"
   ]
  },
  {
   "cell_type": "code",
   "execution_count": 1,
   "id": "1efdedec-294c-4ce2-8946-bc187f488d19",
   "metadata": {
    "tags": []
   },
   "outputs": [],
   "source": [
    "import numpy as np\n",
    "import pandas as pd\n",
    "import matplotlib.pyplot as plt\n",
    "from sklearn.preprocessing import MinMaxScaler, StandardScaler\n",
    "import warnings\n",
    "warnings.filterwarnings('ignore')"
   ]
  },
  {
   "cell_type": "code",
   "execution_count": 2,
   "id": "cd3ef242-dd8a-45b9-af0b-35e4cc13a973",
   "metadata": {
    "tags": []
   },
   "outputs": [],
   "source": [
    "# Loading the dataset\n",
    "housing = pd.read_csv('./data/Housing.csv', delimiter=',')"
   ]
  },
  {
   "cell_type": "code",
   "execution_count": 3,
   "id": "ee6f3fb1-fabd-4a17-af8a-54901337a13f",
   "metadata": {
    "tags": []
   },
   "outputs": [
    {
     "data": {
      "text/html": [
       "<div>\n",
       "<style scoped>\n",
       "    .dataframe tbody tr th:only-of-type {\n",
       "        vertical-align: middle;\n",
       "    }\n",
       "\n",
       "    .dataframe tbody tr th {\n",
       "        vertical-align: top;\n",
       "    }\n",
       "\n",
       "    .dataframe thead th {\n",
       "        text-align: right;\n",
       "    }\n",
       "</style>\n",
       "<table border=\"1\" class=\"dataframe\">\n",
       "  <thead>\n",
       "    <tr style=\"text-align: right;\">\n",
       "      <th></th>\n",
       "      <th>price</th>\n",
       "      <th>area</th>\n",
       "      <th>bedrooms</th>\n",
       "      <th>bathrooms</th>\n",
       "      <th>stories</th>\n",
       "      <th>mainroad</th>\n",
       "      <th>guestroom</th>\n",
       "      <th>basement</th>\n",
       "      <th>hotwaterheating</th>\n",
       "      <th>airconditioning</th>\n",
       "      <th>parking</th>\n",
       "      <th>prefarea</th>\n",
       "      <th>furnishingstatus</th>\n",
       "    </tr>\n",
       "  </thead>\n",
       "  <tbody>\n",
       "    <tr>\n",
       "      <th>0</th>\n",
       "      <td>13300000</td>\n",
       "      <td>7420</td>\n",
       "      <td>4</td>\n",
       "      <td>2</td>\n",
       "      <td>3</td>\n",
       "      <td>yes</td>\n",
       "      <td>no</td>\n",
       "      <td>no</td>\n",
       "      <td>no</td>\n",
       "      <td>yes</td>\n",
       "      <td>2</td>\n",
       "      <td>yes</td>\n",
       "      <td>furnished</td>\n",
       "    </tr>\n",
       "    <tr>\n",
       "      <th>1</th>\n",
       "      <td>12250000</td>\n",
       "      <td>8960</td>\n",
       "      <td>4</td>\n",
       "      <td>4</td>\n",
       "      <td>4</td>\n",
       "      <td>yes</td>\n",
       "      <td>no</td>\n",
       "      <td>no</td>\n",
       "      <td>no</td>\n",
       "      <td>yes</td>\n",
       "      <td>3</td>\n",
       "      <td>no</td>\n",
       "      <td>furnished</td>\n",
       "    </tr>\n",
       "    <tr>\n",
       "      <th>2</th>\n",
       "      <td>12250000</td>\n",
       "      <td>9960</td>\n",
       "      <td>3</td>\n",
       "      <td>2</td>\n",
       "      <td>2</td>\n",
       "      <td>yes</td>\n",
       "      <td>no</td>\n",
       "      <td>yes</td>\n",
       "      <td>no</td>\n",
       "      <td>no</td>\n",
       "      <td>2</td>\n",
       "      <td>yes</td>\n",
       "      <td>semi-furnished</td>\n",
       "    </tr>\n",
       "    <tr>\n",
       "      <th>3</th>\n",
       "      <td>12215000</td>\n",
       "      <td>7500</td>\n",
       "      <td>4</td>\n",
       "      <td>2</td>\n",
       "      <td>2</td>\n",
       "      <td>yes</td>\n",
       "      <td>no</td>\n",
       "      <td>yes</td>\n",
       "      <td>no</td>\n",
       "      <td>yes</td>\n",
       "      <td>3</td>\n",
       "      <td>yes</td>\n",
       "      <td>furnished</td>\n",
       "    </tr>\n",
       "    <tr>\n",
       "      <th>4</th>\n",
       "      <td>11410000</td>\n",
       "      <td>7420</td>\n",
       "      <td>4</td>\n",
       "      <td>1</td>\n",
       "      <td>2</td>\n",
       "      <td>yes</td>\n",
       "      <td>yes</td>\n",
       "      <td>yes</td>\n",
       "      <td>no</td>\n",
       "      <td>yes</td>\n",
       "      <td>2</td>\n",
       "      <td>no</td>\n",
       "      <td>furnished</td>\n",
       "    </tr>\n",
       "  </tbody>\n",
       "</table>\n",
       "</div>"
      ],
      "text/plain": [
       "      price  area  bedrooms  bathrooms  stories mainroad guestroom basement  \\\n",
       "0  13300000  7420         4          2        3      yes        no       no   \n",
       "1  12250000  8960         4          4        4      yes        no       no   \n",
       "2  12250000  9960         3          2        2      yes        no      yes   \n",
       "3  12215000  7500         4          2        2      yes        no      yes   \n",
       "4  11410000  7420         4          1        2      yes       yes      yes   \n",
       "\n",
       "  hotwaterheating airconditioning  parking prefarea furnishingstatus  \n",
       "0              no             yes        2      yes        furnished  \n",
       "1              no             yes        3       no        furnished  \n",
       "2              no              no        2      yes   semi-furnished  \n",
       "3              no             yes        3      yes        furnished  \n",
       "4              no             yes        2       no        furnished  "
      ]
     },
     "execution_count": 3,
     "metadata": {},
     "output_type": "execute_result"
    }
   ],
   "source": [
    "housing.head()"
   ]
  },
  {
   "cell_type": "code",
   "execution_count": 4,
   "id": "4f7bf035-1b5e-4565-b6eb-e80b5983a3e5",
   "metadata": {
    "tags": []
   },
   "outputs": [
    {
     "data": {
      "text/plain": [
       "545"
      ]
     },
     "execution_count": 4,
     "metadata": {},
     "output_type": "execute_result"
    }
   ],
   "source": [
    "m = len(housing)\n",
    "m"
   ]
  },
  {
   "cell_type": "code",
   "execution_count": 5,
   "id": "ff559de8-d3bd-4e97-9ac5-7b43fd6494a5",
   "metadata": {
    "tags": []
   },
   "outputs": [
    {
     "data": {
      "text/plain": [
       "(545, 13)"
      ]
     },
     "execution_count": 5,
     "metadata": {},
     "output_type": "execute_result"
    }
   ],
   "source": [
    "housing.shape"
   ]
  },
  {
   "cell_type": "code",
   "execution_count": 6,
   "id": "f46c16d4-c831-410f-b772-4170b8cc338c",
   "metadata": {
    "tags": []
   },
   "outputs": [
    {
     "data": {
      "text/html": [
       "<div>\n",
       "<style scoped>\n",
       "    .dataframe tbody tr th:only-of-type {\n",
       "        vertical-align: middle;\n",
       "    }\n",
       "\n",
       "    .dataframe tbody tr th {\n",
       "        vertical-align: top;\n",
       "    }\n",
       "\n",
       "    .dataframe thead th {\n",
       "        text-align: right;\n",
       "    }\n",
       "</style>\n",
       "<table border=\"1\" class=\"dataframe\">\n",
       "  <thead>\n",
       "    <tr style=\"text-align: right;\">\n",
       "      <th></th>\n",
       "      <th>price</th>\n",
       "      <th>area</th>\n",
       "      <th>bedrooms</th>\n",
       "      <th>bathrooms</th>\n",
       "      <th>stories</th>\n",
       "      <th>mainroad</th>\n",
       "      <th>guestroom</th>\n",
       "      <th>basement</th>\n",
       "      <th>hotwaterheating</th>\n",
       "      <th>airconditioning</th>\n",
       "      <th>parking</th>\n",
       "      <th>prefarea</th>\n",
       "      <th>furnishingstatus</th>\n",
       "    </tr>\n",
       "  </thead>\n",
       "  <tbody>\n",
       "    <tr>\n",
       "      <th>0</th>\n",
       "      <td>13300000</td>\n",
       "      <td>7420</td>\n",
       "      <td>4</td>\n",
       "      <td>2</td>\n",
       "      <td>3</td>\n",
       "      <td>1</td>\n",
       "      <td>0</td>\n",
       "      <td>0</td>\n",
       "      <td>0</td>\n",
       "      <td>1</td>\n",
       "      <td>2</td>\n",
       "      <td>1</td>\n",
       "      <td>furnished</td>\n",
       "    </tr>\n",
       "    <tr>\n",
       "      <th>1</th>\n",
       "      <td>12250000</td>\n",
       "      <td>8960</td>\n",
       "      <td>4</td>\n",
       "      <td>4</td>\n",
       "      <td>4</td>\n",
       "      <td>1</td>\n",
       "      <td>0</td>\n",
       "      <td>0</td>\n",
       "      <td>0</td>\n",
       "      <td>1</td>\n",
       "      <td>3</td>\n",
       "      <td>0</td>\n",
       "      <td>furnished</td>\n",
       "    </tr>\n",
       "    <tr>\n",
       "      <th>2</th>\n",
       "      <td>12250000</td>\n",
       "      <td>9960</td>\n",
       "      <td>3</td>\n",
       "      <td>2</td>\n",
       "      <td>2</td>\n",
       "      <td>1</td>\n",
       "      <td>0</td>\n",
       "      <td>1</td>\n",
       "      <td>0</td>\n",
       "      <td>0</td>\n",
       "      <td>2</td>\n",
       "      <td>1</td>\n",
       "      <td>semi-furnished</td>\n",
       "    </tr>\n",
       "    <tr>\n",
       "      <th>3</th>\n",
       "      <td>12215000</td>\n",
       "      <td>7500</td>\n",
       "      <td>4</td>\n",
       "      <td>2</td>\n",
       "      <td>2</td>\n",
       "      <td>1</td>\n",
       "      <td>0</td>\n",
       "      <td>1</td>\n",
       "      <td>0</td>\n",
       "      <td>1</td>\n",
       "      <td>3</td>\n",
       "      <td>1</td>\n",
       "      <td>furnished</td>\n",
       "    </tr>\n",
       "    <tr>\n",
       "      <th>4</th>\n",
       "      <td>11410000</td>\n",
       "      <td>7420</td>\n",
       "      <td>4</td>\n",
       "      <td>1</td>\n",
       "      <td>2</td>\n",
       "      <td>1</td>\n",
       "      <td>1</td>\n",
       "      <td>1</td>\n",
       "      <td>0</td>\n",
       "      <td>1</td>\n",
       "      <td>2</td>\n",
       "      <td>0</td>\n",
       "      <td>furnished</td>\n",
       "    </tr>\n",
       "  </tbody>\n",
       "</table>\n",
       "</div>"
      ],
      "text/plain": [
       "      price  area  bedrooms  bathrooms  stories  mainroad  guestroom  \\\n",
       "0  13300000  7420         4          2        3         1          0   \n",
       "1  12250000  8960         4          4        4         1          0   \n",
       "2  12250000  9960         3          2        2         1          0   \n",
       "3  12215000  7500         4          2        2         1          0   \n",
       "4  11410000  7420         4          1        2         1          1   \n",
       "\n",
       "   basement  hotwaterheating  airconditioning  parking  prefarea  \\\n",
       "0         0                0                1        2         1   \n",
       "1         0                0                1        3         0   \n",
       "2         1                0                0        2         1   \n",
       "3         1                0                1        3         1   \n",
       "4         1                0                1        2         0   \n",
       "\n",
       "  furnishingstatus  \n",
       "0        furnished  \n",
       "1        furnished  \n",
       "2   semi-furnished  \n",
       "3        furnished  \n",
       "4        furnished  "
      ]
     },
     "execution_count": 6,
     "metadata": {},
     "output_type": "execute_result"
    }
   ],
   "source": [
    "# The dataset has many columns with 'Yes' and 'No'\n",
    "\n",
    "# List of variable to map to numerical values.\n",
    "varlist = ['mainroad', 'guestroom', 'basement', 'hotwaterheating', \\\n",
    "           'airconditioning', 'prefarea']\n",
    "\n",
    "# Defining the map function\n",
    "def binary_map(x):\n",
    "    return x.map({'yes': 1, 'no': 0})\n",
    "\n",
    "# Applying the function to the housing list\n",
    "housing[varlist] = housing[varlist].apply(binary_map)\n",
    "\n",
    "# check the housing dataframe now\n",
    "housing.head()"
   ]
  },
  {
   "cell_type": "code",
   "execution_count": 7,
   "id": "7ee9a67b-ce5e-4ea9-8a07-8dc1cebfc912",
   "metadata": {
    "tags": []
   },
   "outputs": [],
   "source": [
    "# Helper function to reshape the input matrix as a column vector and append X0.\n",
    "def transform_and_append_X0(X, m, n):\n",
    "    # Reshape the input matrix as a column vector\n",
    "    X_ = X.reshape(m, n)\n",
    "\n",
    "    # Create the X0 column vector\n",
    "    X0 = np.ones((m, 1))\n",
    "\n",
    "    # Combine the input matrix with the X0 vector\n",
    "    X = np.hstack((X0, X_))\n",
    "    \n",
    "    return X"
   ]
  },
  {
   "cell_type": "code",
   "execution_count": 8,
   "id": "440508ba-29f1-4abd-addd-d009aacd73af",
   "metadata": {
    "tags": []
   },
   "outputs": [],
   "source": [
    "def compute_loss(X, y, m, theta):\n",
    "    \"\"\"\n",
    "    Compute loss for linear regression.\n",
    "    \n",
    "    Input Parameters\n",
    "    ----------------\n",
    "    X : mxn array where each row represent the training example and each column represent a feature\n",
    "        m= number of training examples\n",
    "        n= number of features (including X_0 column of ones)\n",
    "    y : 1D array of labels/target value for each training example. Dimension(m,1)\n",
    "    theta : nx1 array of fitting parameters or weights. Dimension (n,1)\n",
    "    \n",
    "    Output Parameters\n",
    "    -----------------\n",
    "    J : Scalar values. \n",
    "    \"\"\"\n",
    "    predictions = X.dot(theta) # predictions = h\n",
    "    errors = np.subtract(predictions, y)\n",
    "    sqrErrors = np.square(errors)\n",
    "    J = 1 / (2*m) * np.sum(sqrErrors)\n",
    "    \n",
    "    return J"
   ]
  },
  {
   "cell_type": "code",
   "execution_count": 9,
   "id": "2aaaaf20-6e4e-4171-8804-22d3505f39fc",
   "metadata": {
    "tags": []
   },
   "outputs": [],
   "source": [
    "def gradient_descent(X_train, y_train, m_train, X_test, y_test, m_test, theta, alpha, iterations):\n",
    "    \"\"\"\n",
    "    Compute cost for linear regression.\n",
    "    \n",
    "    Input Parameters\n",
    "    ----------------\n",
    "    X : mxn array where each row represent the training example and each column represent a feature\n",
    "        m= number of training examples\n",
    "        n= number of features (including X_0 column of ones)\n",
    "    y : 1D array of labels/target value for each training example. Dimension(m,1)\n",
    "    theta : nx1 array of fitting parameters or weights. Dimension (n,1)\n",
    "    alpha : Learning rate. Scalar value.\n",
    "    iterations: Number of iterations. Scalar value.\n",
    "    \n",
    "    Output Parameters\n",
    "    -----------------\n",
    "    theta : Final value. 1xn array of fitting parameters of weights. Dimension (1xn)\n",
    "    cost_history : Contains value of cost for each iteration. Dimension (mx1)\n",
    "    \"\"\"\n",
    "    train_loss_history = np.zeros(iterations)\n",
    "    test_loss_history = np.zeros(iterations)\n",
    "    \n",
    "    for i in range(iterations):\n",
    "        predictions = X_train.dot(theta) # prediction (m,1)\n",
    "        errors = np.subtract(predictions, y_train) # Error (m,1) = temp\n",
    "        sum_delta = (alpha/m_train) * X_train.transpose().dot(errors) # sum_delta (n,1)\n",
    "        # print(\"sum delta\\n\", sum_delta)\n",
    "        theta = theta - sum_delta\n",
    "        train_loss_history[i] = compute_loss(X_train, y_train, m_train, theta)\n",
    "        test_loss_history[i] = compute_loss(X_test, y_test, m_test, theta)\n",
    "    \n",
    "    return theta, train_loss_history, test_loss_history"
   ]
  },
  {
   "cell_type": "code",
   "execution_count": 10,
   "id": "482fa4e4-2fc7-40de-ae23-8b4770d9265d",
   "metadata": {},
   "outputs": [],
   "source": [
    "# Linear regression with three explanatory variables\n",
    "def RunLinearRegression2(X_train, y_train, X_test, y_test, alpha, iterations):\n",
    "    \n",
    "    # Get train set dimensions\n",
    "    m_train = len(X_train)\n",
    "    n_train = len(X_train[0, :])\n",
    "    \n",
    "    # Get test set dimensions\n",
    "    m_test = len(X_test)\n",
    "    n_test = len(X_test[0, :])\n",
    "    \n",
    "    # Check if number of features in test set is the same as train set\n",
    "    if n_test != n_train:\n",
    "        return \"Error: Check your number of features!\"\n",
    "\n",
    "    # Reshape the input matrix as a column vector and append X0.\n",
    "    X_train = transform_and_append_X0(X_train, m_train, n_train)\n",
    "    X_test = transform_and_append_X0(X_test, m_test, n_test)\n",
    "\n",
    "    # Initialize the theta parameters\n",
    "    theta = np.zeros((n_train+1, 1))\n",
    "\n",
    "    # compute the train cost for theta values\n",
    "    train_loss = compute_loss(X_train, y_train, m_train, theta)\n",
    "    print('Initial train set cost for given values of thetas =', train_loss)\n",
    "    \n",
    "    # compute the test cost for theta values\n",
    "    test_loss = compute_loss(X_test, y_test, m_test, theta)\n",
    "    print('Initial test set cost for given values of thetas =', test_loss)\n",
    "\n",
    "    # Initialize theta.\n",
    "    theta = np.zeros((n_train+1))\n",
    "\n",
    "    # Run the gradient descent with the given parameter\n",
    "    theta, train_loss_history, test_loss_history = gradient_descent(X_train, y_train, m_train, \n",
    "                                                                    X_test, y_test, m_test,\n",
    "                                                                    theta, alpha, iterations)\n",
    "    print('Final value of theta\\n', theta)\n",
    "    print('Last ten train Loss history\\n', train_loss_history[iterations-10:])\n",
    "    print('Last ten test Loss history\\n', test_loss_history[iterations-10:])\n",
    "    return train_loss_history, test_loss_history\n"
   ]
  },
  {
   "cell_type": "code",
   "execution_count": 11,
   "id": "c72de8dd-7015-4ca6-a237-12363dec716f",
   "metadata": {},
   "outputs": [
    {
     "data": {
      "text/plain": [
       "(436, 13)"
      ]
     },
     "execution_count": 11,
     "metadata": {},
     "output_type": "execute_result"
    }
   ],
   "source": [
    "# Split the Data into training and testing sets\n",
    "from sklearn.model_selection import train_test_split\n",
    "\n",
    "# We specify this so that the train and test data set always have the\n",
    "# the same rows, respectively \n",
    "np.random.seed(42)\n",
    "df_train, df_test = train_test_split(housing, train_size=0.8,\n",
    "                                     test_size=0.2)\n",
    "df_train.shape"
   ]
  },
  {
   "cell_type": "code",
   "execution_count": 12,
   "id": "605aa798-b007-456f-81ec-cb65f4973559",
   "metadata": {},
   "outputs": [
    {
     "data": {
      "text/plain": [
       "(109, 13)"
      ]
     },
     "execution_count": 12,
     "metadata": {},
     "output_type": "execute_result"
    }
   ],
   "source": [
    "df_test.shape"
   ]
  },
  {
   "cell_type": "markdown",
   "id": "f7e5f694-5c44-4e24-b466-edb00a64f8ae",
   "metadata": {},
   "source": [
    "## Problem 1.a."
   ]
  },
  {
   "cell_type": "code",
   "execution_count": 13,
   "id": "89c86cf9-0b4f-4569-95e7-53fbd81537e7",
   "metadata": {},
   "outputs": [
    {
     "data": {
      "text/html": [
       "<div>\n",
       "<style scoped>\n",
       "    .dataframe tbody tr th:only-of-type {\n",
       "        vertical-align: middle;\n",
       "    }\n",
       "\n",
       "    .dataframe tbody tr th {\n",
       "        vertical-align: top;\n",
       "    }\n",
       "\n",
       "    .dataframe thead th {\n",
       "        text-align: right;\n",
       "    }\n",
       "</style>\n",
       "<table border=\"1\" class=\"dataframe\">\n",
       "  <thead>\n",
       "    <tr style=\"text-align: right;\">\n",
       "      <th></th>\n",
       "      <th>area</th>\n",
       "      <th>bedrooms</th>\n",
       "      <th>bathrooms</th>\n",
       "      <th>stories</th>\n",
       "      <th>parking</th>\n",
       "      <th>price</th>\n",
       "    </tr>\n",
       "  </thead>\n",
       "  <tbody>\n",
       "    <tr>\n",
       "      <th>46</th>\n",
       "      <td>6000</td>\n",
       "      <td>3</td>\n",
       "      <td>2</td>\n",
       "      <td>4</td>\n",
       "      <td>1</td>\n",
       "      <td>7525000</td>\n",
       "    </tr>\n",
       "    <tr>\n",
       "      <th>93</th>\n",
       "      <td>7200</td>\n",
       "      <td>3</td>\n",
       "      <td>2</td>\n",
       "      <td>1</td>\n",
       "      <td>3</td>\n",
       "      <td>6300000</td>\n",
       "    </tr>\n",
       "    <tr>\n",
       "      <th>335</th>\n",
       "      <td>3816</td>\n",
       "      <td>2</td>\n",
       "      <td>1</td>\n",
       "      <td>1</td>\n",
       "      <td>2</td>\n",
       "      <td>3920000</td>\n",
       "    </tr>\n",
       "    <tr>\n",
       "      <th>412</th>\n",
       "      <td>2610</td>\n",
       "      <td>3</td>\n",
       "      <td>1</td>\n",
       "      <td>2</td>\n",
       "      <td>0</td>\n",
       "      <td>3430000</td>\n",
       "    </tr>\n",
       "    <tr>\n",
       "      <th>471</th>\n",
       "      <td>3750</td>\n",
       "      <td>3</td>\n",
       "      <td>1</td>\n",
       "      <td>2</td>\n",
       "      <td>0</td>\n",
       "      <td>3010000</td>\n",
       "    </tr>\n",
       "  </tbody>\n",
       "</table>\n",
       "</div>"
      ],
      "text/plain": [
       "     area  bedrooms  bathrooms  stories  parking    price\n",
       "46   6000         3          2        4        1  7525000\n",
       "93   7200         3          2        1        3  6300000\n",
       "335  3816         2          1        1        2  3920000\n",
       "412  2610         3          1        2        0  3430000\n",
       "471  3750         3          1        2        0  3010000"
      ]
     },
     "execution_count": 13,
     "metadata": {},
     "output_type": "execute_result"
    }
   ],
   "source": [
    "num_vars = ['area', 'bedrooms', 'bathrooms', \\\n",
    "            'stories', 'parking', 'price']\n",
    "\n",
    "df_new_train = df_train[num_vars]\n",
    "df_new_test = df_test[num_vars]\n",
    "df_new_train.head()"
   ]
  },
  {
   "cell_type": "code",
   "execution_count": 14,
   "id": "71e460f1-a059-4b7c-a666-cd9963cccf4d",
   "metadata": {},
   "outputs": [],
   "source": [
    "# split features and labels in train set\n",
    "y_df_train = df_new_train.pop('price')\n",
    "X_df_train = df_new_train.copy()"
   ]
  },
  {
   "cell_type": "code",
   "execution_count": 15,
   "id": "ce7483b6-b4f6-4b26-9ace-3fa2e298e8af",
   "metadata": {},
   "outputs": [],
   "source": [
    "# split features and labels in test set\n",
    "y_df_test = df_new_test.pop('price')\n",
    "X_df_test = df_new_test.copy()"
   ]
  },
  {
   "cell_type": "code",
   "execution_count": 16,
   "id": "4af25f12-d882-41b7-9bab-c14199b4a7a1",
   "metadata": {},
   "outputs": [],
   "source": [
    "# Extract values from train set dataframes\n",
    "y_train = y_df_train.values\n",
    "X_train = X_df_train.values"
   ]
  },
  {
   "cell_type": "code",
   "execution_count": 17,
   "id": "66774032-73bb-492c-8b91-6c044e868027",
   "metadata": {},
   "outputs": [],
   "source": [
    "# Extract values from test set dataframes\n",
    "y_test = y_df_test.values\n",
    "X_test = X_df_test.values"
   ]
  },
  {
   "cell_type": "code",
   "execution_count": 18,
   "id": "89145515-02aa-4dd1-b796-c4ee122dfecf",
   "metadata": {},
   "outputs": [],
   "source": [
    "# initialize alpha and number of iterations\n",
    "alpha = 0.000000001\n",
    "iterations = 1000"
   ]
  },
  {
   "cell_type": "code",
   "execution_count": 19,
   "id": "bf90c0a7-5e31-4e2e-9490-66a9cf6b3d37",
   "metadata": {},
   "outputs": [
    {
     "name": "stdout",
     "output_type": "stream",
     "text": [
      "Initial train set cost for given values of thetas = 5501184744614302.0\n",
      "Initial test set cost for given values of thetas = 1642084674125000.2\n",
      "Final value of theta\n",
      " [5.25190152e-01 8.37930064e+02 1.83467039e+00 9.41126654e-01\n",
      " 1.43762692e+00 4.13349336e-01]\n",
      "Last ten train Loss history\n",
      " [1.58937247e+12 1.58937247e+12 1.58937246e+12 1.58937246e+12\n",
      " 1.58937246e+12 1.58937245e+12 1.58937245e+12 1.58937244e+12\n",
      " 1.58937244e+12 1.58937243e+12]\n",
      "Last ten test Loss history\n",
      " [2.03407027e+12 2.03407027e+12 2.03407026e+12 2.03407026e+12\n",
      " 2.03407026e+12 2.03407025e+12 2.03407025e+12 2.03407025e+12\n",
      " 2.03407024e+12 2.03407024e+12]\n"
     ]
    }
   ],
   "source": [
    "# Evaluate loss for on training set\n",
    "train_loss_history, test_loss_history = RunLinearRegression2(X_train, y_train, X_test, y_test, alpha, iterations)"
   ]
  },
  {
   "cell_type": "code",
   "execution_count": 20,
   "id": "9a2dd4d6-94f8-437a-8b19-f3ad0dbbc0e3",
   "metadata": {},
   "outputs": [
    {
     "data": {
      "image/png": "[encoded data removed]",
      "text/plain": [
       "<Figure size 432x288 with 1 Axes>"
      ]
     },
     "metadata": {
      "needs_background": "light"
     },
     "output_type": "display_data"
    }
   ],
   "source": [
    "# plot the loss history\n",
    "plt.plot(range(1, iterations+1), train_loss_history, color='blue', label='Training cost')\n",
    "plt.plot(range(1, iterations+1), test_loss_history, color='red', label='Validation cost')\n",
    "plt.rcParams[\"figure.figsize\"] = (10,6)\n",
    "plt.grid()\n",
    "plt.xlabel('Number of iterations')\n",
    "plt.ylabel('Cost (J)')\n",
    "plt.title('Convergence of gradient descent')\n",
    "plt.legend()\n",
    "plt.show()"
   ]
  },
  {
   "cell_type": "markdown",
   "id": "d222aab0-1161-40e3-8098-5a697b1b6a24",
   "metadata": {},
   "source": [
    "## Problem 1.b"
   ]
  },
  {
   "cell_type": "code",
   "execution_count": 21,
   "id": "41490f8b-fe28-42c8-b8c9-91fc8f052c69",
   "metadata": {},
   "outputs": [
    {
     "data": {
      "text/html": [
       "<div>\n",
       "<style scoped>\n",
       "    .dataframe tbody tr th:only-of-type {\n",
       "        vertical-align: middle;\n",
       "    }\n",
       "\n",
       "    .dataframe tbody tr th {\n",
       "        vertical-align: top;\n",
       "    }\n",
       "\n",
       "    .dataframe thead th {\n",
       "        text-align: right;\n",
       "    }\n",
       "</style>\n",
       "<table border=\"1\" class=\"dataframe\">\n",
       "  <thead>\n",
       "    <tr style=\"text-align: right;\">\n",
       "      <th></th>\n",
       "      <th>area</th>\n",
       "      <th>bedrooms</th>\n",
       "      <th>bathrooms</th>\n",
       "      <th>stories</th>\n",
       "      <th>mainroad</th>\n",
       "      <th>guestroom</th>\n",
       "      <th>basement</th>\n",
       "      <th>hotwaterheating</th>\n",
       "      <th>airconditioning</th>\n",
       "      <th>parking</th>\n",
       "      <th>prefarea</th>\n",
       "      <th>price</th>\n",
       "    </tr>\n",
       "  </thead>\n",
       "  <tbody>\n",
       "    <tr>\n",
       "      <th>46</th>\n",
       "      <td>6000</td>\n",
       "      <td>3</td>\n",
       "      <td>2</td>\n",
       "      <td>4</td>\n",
       "      <td>1</td>\n",
       "      <td>0</td>\n",
       "      <td>0</td>\n",
       "      <td>0</td>\n",
       "      <td>1</td>\n",
       "      <td>1</td>\n",
       "      <td>0</td>\n",
       "      <td>7525000</td>\n",
       "    </tr>\n",
       "    <tr>\n",
       "      <th>93</th>\n",
       "      <td>7200</td>\n",
       "      <td>3</td>\n",
       "      <td>2</td>\n",
       "      <td>1</td>\n",
       "      <td>1</td>\n",
       "      <td>0</td>\n",
       "      <td>1</td>\n",
       "      <td>0</td>\n",
       "      <td>1</td>\n",
       "      <td>3</td>\n",
       "      <td>0</td>\n",
       "      <td>6300000</td>\n",
       "    </tr>\n",
       "    <tr>\n",
       "      <th>335</th>\n",
       "      <td>3816</td>\n",
       "      <td>2</td>\n",
       "      <td>1</td>\n",
       "      <td>1</td>\n",
       "      <td>1</td>\n",
       "      <td>0</td>\n",
       "      <td>1</td>\n",
       "      <td>0</td>\n",
       "      <td>1</td>\n",
       "      <td>2</td>\n",
       "      <td>0</td>\n",
       "      <td>3920000</td>\n",
       "    </tr>\n",
       "    <tr>\n",
       "      <th>412</th>\n",
       "      <td>2610</td>\n",
       "      <td>3</td>\n",
       "      <td>1</td>\n",
       "      <td>2</td>\n",
       "      <td>1</td>\n",
       "      <td>0</td>\n",
       "      <td>1</td>\n",
       "      <td>0</td>\n",
       "      <td>0</td>\n",
       "      <td>0</td>\n",
       "      <td>1</td>\n",
       "      <td>3430000</td>\n",
       "    </tr>\n",
       "    <tr>\n",
       "      <th>471</th>\n",
       "      <td>3750</td>\n",
       "      <td>3</td>\n",
       "      <td>1</td>\n",
       "      <td>2</td>\n",
       "      <td>1</td>\n",
       "      <td>0</td>\n",
       "      <td>0</td>\n",
       "      <td>0</td>\n",
       "      <td>0</td>\n",
       "      <td>0</td>\n",
       "      <td>0</td>\n",
       "      <td>3010000</td>\n",
       "    </tr>\n",
       "  </tbody>\n",
       "</table>\n",
       "</div>"
      ],
      "text/plain": [
       "     area  bedrooms  bathrooms  stories  mainroad  guestroom  basement  \\\n",
       "46   6000         3          2        4         1          0         0   \n",
       "93   7200         3          2        1         1          0         1   \n",
       "335  3816         2          1        1         1          0         1   \n",
       "412  2610         3          1        2         1          0         1   \n",
       "471  3750         3          1        2         1          0         0   \n",
       "\n",
       "     hotwaterheating  airconditioning  parking  prefarea    price  \n",
       "46                 0                1        1         0  7525000  \n",
       "93                 0                1        3         0  6300000  \n",
       "335                0                1        2         0  3920000  \n",
       "412                0                0        0         1  3430000  \n",
       "471                0                0        0         0  3010000  "
      ]
     },
     "execution_count": 21,
     "metadata": {},
     "output_type": "execute_result"
    }
   ],
   "source": [
    "num_vars = ['area', 'bedrooms', 'bathrooms', \\\n",
    "            'stories','mainroad', 'guestroom', \\\n",
    "            'basement', 'hotwaterheating', 'airconditioning', \\\n",
    "            'parking', 'prefarea', 'price']\n",
    "\n",
    "df_new_train = df_train[num_vars]\n",
    "df_new_test = df_test[num_vars]\n",
    "df_new_train.head()"
   ]
  },
  {
   "cell_type": "code",
   "execution_count": 22,
   "id": "e605d881-7682-4d5e-a455-019c009ba6aa",
   "metadata": {},
   "outputs": [],
   "source": [
    "# split features and labels in train set\n",
    "y_df_train = df_new_train.pop('price')\n",
    "X_df_train = df_new_train.copy()"
   ]
  },
  {
   "cell_type": "code",
   "execution_count": 23,
   "id": "53f2a7b7-112c-42b7-a5c0-35b63389a31a",
   "metadata": {},
   "outputs": [],
   "source": [
    "# split features and labels in test set\n",
    "y_df_test = df_new_test.pop('price')\n",
    "X_df_test = df_new_test.copy()"
   ]
  },
  {
   "cell_type": "code",
   "execution_count": 24,
   "id": "b8a7e2fd-d6de-4c4b-98e2-716115d9087d",
   "metadata": {},
   "outputs": [],
   "source": [
    "# Extract values from train set dataframes\n",
    "y_train = y_df_train.values\n",
    "X_train = X_df_train.values"
   ]
  },
  {
   "cell_type": "code",
   "execution_count": 25,
   "id": "3ac0e4ae-ed00-4113-81e3-034e8ca65c17",
   "metadata": {},
   "outputs": [],
   "source": [
    "# Extract values from test set dataframes\n",
    "y_test = y_df_test.values\n",
    "X_test = X_df_test.values"
   ]
  },
  {
   "cell_type": "code",
   "execution_count": 26,
   "id": "cbe461b6-4c2f-444d-9506-0ac5d2e8a5fa",
   "metadata": {},
   "outputs": [],
   "source": [
    "# initialize alpha and number of iterations\n",
    "alpha = 0.000000001\n",
    "iterations = 1000"
   ]
  },
  {
   "cell_type": "code",
   "execution_count": 27,
   "id": "ff5ee47d-f7c6-42b1-8355-aef50ff2e9c8",
   "metadata": {},
   "outputs": [
    {
     "name": "stdout",
     "output_type": "stream",
     "text": [
      "Initial train set cost for given values of thetas = 5501184744614302.0\n",
      "Initial test set cost for given values of thetas = 1642084674125000.2\n",
      "Final value of theta\n",
      " [5.25190092e-01 8.37929945e+02 1.83467020e+00 9.41126576e-01\n",
      " 1.43762680e+00 4.55244427e-01 1.51525272e-01 3.27136506e-01\n",
      " 5.71614141e-02 3.65255486e-01 4.13349299e-01 1.88677526e-01]\n",
      "Last ten train Loss history\n",
      " [1.58937207e+12 1.58937206e+12 1.58937206e+12 1.58937205e+12\n",
      " 1.58937205e+12 1.58937205e+12 1.58937204e+12 1.58937204e+12\n",
      " 1.58937203e+12 1.58937203e+12]\n",
      "Last ten test Loss history\n",
      " [2.03406991e+12 2.03406991e+12 2.03406990e+12 2.03406990e+12\n",
      " 2.03406989e+12 2.03406989e+12 2.03406989e+12 2.03406988e+12\n",
      " 2.03406988e+12 2.03406987e+12]\n"
     ]
    }
   ],
   "source": [
    "# Evaluate loss for on training set\n",
    "train_loss_history, test_loss_history = RunLinearRegression2(X_train, y_train, X_test, y_test, alpha, iterations)"
   ]
  },
  {
   "cell_type": "code",
   "execution_count": 28,
   "id": "dbd37baf-937d-4ba7-99ae-9fc83a12c559",
   "metadata": {},
   "outputs": [
    {
     "data": {
      "image/png": "[encoded data removed]",
      "text/plain": [
       "<Figure size 720x432 with 1 Axes>"
      ]
     },
     "metadata": {
      "needs_background": "light"
     },
     "output_type": "display_data"
    }
   ],
   "source": [
    "# plot the loss history\n",
    "plt.plot(range(1, iterations+1), train_loss_history, color='blue', label='Training cost')\n",
    "plt.plot(range(1, iterations+1), test_loss_history, color='red', label='Validation cost')\n",
    "plt.rcParams[\"figure.figsize\"] = (10,6)\n",
    "plt.grid()\n",
    "plt.xlabel('Number of iterations')\n",
    "plt.ylabel('Cost (J)')\n",
    "plt.title('Convergence of gradient descent')\n",
    "plt.legend()\n",
    "plt.show()"
   ]
  },
  {
   "cell_type": "markdown",
   "id": "0140ea87-117a-4d16-a54a-0d1cb9875f7d",
   "metadata": {},
   "source": [
    "## Problem 2.a\n",
    "### Using MinMaxScaler"
   ]
  },
  {
   "cell_type": "code",
   "execution_count": 29,
   "id": "0c73970f-e342-4120-8299-785a97abdab9",
   "metadata": {},
   "outputs": [
    {
     "data": {
      "text/html": [
       "<div>\n",
       "<style scoped>\n",
       "    .dataframe tbody tr th:only-of-type {\n",
       "        vertical-align: middle;\n",
       "    }\n",
       "\n",
       "    .dataframe tbody tr th {\n",
       "        vertical-align: top;\n",
       "    }\n",
       "\n",
       "    .dataframe thead th {\n",
       "        text-align: right;\n",
       "    }\n",
       "</style>\n",
       "<table border=\"1\" class=\"dataframe\">\n",
       "  <thead>\n",
       "    <tr style=\"text-align: right;\">\n",
       "      <th></th>\n",
       "      <th>area</th>\n",
       "      <th>bedrooms</th>\n",
       "      <th>bathrooms</th>\n",
       "      <th>stories</th>\n",
       "      <th>parking</th>\n",
       "      <th>price</th>\n",
       "    </tr>\n",
       "  </thead>\n",
       "  <tbody>\n",
       "    <tr>\n",
       "      <th>46</th>\n",
       "      <td>6000</td>\n",
       "      <td>3</td>\n",
       "      <td>2</td>\n",
       "      <td>4</td>\n",
       "      <td>1</td>\n",
       "      <td>7525000</td>\n",
       "    </tr>\n",
       "    <tr>\n",
       "      <th>93</th>\n",
       "      <td>7200</td>\n",
       "      <td>3</td>\n",
       "      <td>2</td>\n",
       "      <td>1</td>\n",
       "      <td>3</td>\n",
       "      <td>6300000</td>\n",
       "    </tr>\n",
       "    <tr>\n",
       "      <th>335</th>\n",
       "      <td>3816</td>\n",
       "      <td>2</td>\n",
       "      <td>1</td>\n",
       "      <td>1</td>\n",
       "      <td>2</td>\n",
       "      <td>3920000</td>\n",
       "    </tr>\n",
       "    <tr>\n",
       "      <th>412</th>\n",
       "      <td>2610</td>\n",
       "      <td>3</td>\n",
       "      <td>1</td>\n",
       "      <td>2</td>\n",
       "      <td>0</td>\n",
       "      <td>3430000</td>\n",
       "    </tr>\n",
       "    <tr>\n",
       "      <th>471</th>\n",
       "      <td>3750</td>\n",
       "      <td>3</td>\n",
       "      <td>1</td>\n",
       "      <td>2</td>\n",
       "      <td>0</td>\n",
       "      <td>3010000</td>\n",
       "    </tr>\n",
       "  </tbody>\n",
       "</table>\n",
       "</div>"
      ],
      "text/plain": [
       "     area  bedrooms  bathrooms  stories  parking    price\n",
       "46   6000         3          2        4        1  7525000\n",
       "93   7200         3          2        1        3  6300000\n",
       "335  3816         2          1        1        2  3920000\n",
       "412  2610         3          1        2        0  3430000\n",
       "471  3750         3          1        2        0  3010000"
      ]
     },
     "execution_count": 29,
     "metadata": {},
     "output_type": "execute_result"
    }
   ],
   "source": [
    "num_vars = ['area', 'bedrooms', 'bathrooms', \\\n",
    "            'stories', 'parking', 'price']\n",
    "\n",
    "df_new_train = df_train[num_vars]\n",
    "df_new_test = df_test[num_vars]\n",
    "df_new_train.head()"
   ]
  },
  {
   "cell_type": "code",
   "execution_count": 30,
   "id": "ea50f390-04ff-4dcd-b97f-8c9adb0e28f0",
   "metadata": {
    "tags": []
   },
   "outputs": [],
   "source": [
    "# Initialize the MinMaxScaler\n",
    "scaler = MinMaxScaler() "
   ]
  },
  {
   "cell_type": "code",
   "execution_count": 31,
   "id": "87d22b09-b0f6-43ab-ae26-7e2d8bf52f76",
   "metadata": {},
   "outputs": [
    {
     "data": {
      "text/html": [
       "<div>\n",
       "<style scoped>\n",
       "    .dataframe tbody tr th:only-of-type {\n",
       "        vertical-align: middle;\n",
       "    }\n",
       "\n",
       "    .dataframe tbody tr th {\n",
       "        vertical-align: top;\n",
       "    }\n",
       "\n",
       "    .dataframe thead th {\n",
       "        text-align: right;\n",
       "    }\n",
       "</style>\n",
       "<table border=\"1\" class=\"dataframe\">\n",
       "  <thead>\n",
       "    <tr style=\"text-align: right;\">\n",
       "      <th></th>\n",
       "      <th>area</th>\n",
       "      <th>bedrooms</th>\n",
       "      <th>bathrooms</th>\n",
       "      <th>stories</th>\n",
       "      <th>parking</th>\n",
       "      <th>price</th>\n",
       "    </tr>\n",
       "  </thead>\n",
       "  <tbody>\n",
       "    <tr>\n",
       "      <th>46</th>\n",
       "      <td>0.298969</td>\n",
       "      <td>0.4</td>\n",
       "      <td>0.333333</td>\n",
       "      <td>1.000000</td>\n",
       "      <td>0.333333</td>\n",
       "      <td>0.550000</td>\n",
       "    </tr>\n",
       "    <tr>\n",
       "      <th>93</th>\n",
       "      <td>0.381443</td>\n",
       "      <td>0.4</td>\n",
       "      <td>0.333333</td>\n",
       "      <td>0.000000</td>\n",
       "      <td>1.000000</td>\n",
       "      <td>0.433333</td>\n",
       "    </tr>\n",
       "    <tr>\n",
       "      <th>335</th>\n",
       "      <td>0.148866</td>\n",
       "      <td>0.2</td>\n",
       "      <td>0.000000</td>\n",
       "      <td>0.000000</td>\n",
       "      <td>0.666667</td>\n",
       "      <td>0.206667</td>\n",
       "    </tr>\n",
       "    <tr>\n",
       "      <th>412</th>\n",
       "      <td>0.065979</td>\n",
       "      <td>0.4</td>\n",
       "      <td>0.000000</td>\n",
       "      <td>0.333333</td>\n",
       "      <td>0.000000</td>\n",
       "      <td>0.160000</td>\n",
       "    </tr>\n",
       "    <tr>\n",
       "      <th>471</th>\n",
       "      <td>0.144330</td>\n",
       "      <td>0.4</td>\n",
       "      <td>0.000000</td>\n",
       "      <td>0.333333</td>\n",
       "      <td>0.000000</td>\n",
       "      <td>0.120000</td>\n",
       "    </tr>\n",
       "  </tbody>\n",
       "</table>\n",
       "</div>"
      ],
      "text/plain": [
       "         area  bedrooms  bathrooms   stories   parking     price\n",
       "46   0.298969       0.4   0.333333  1.000000  0.333333  0.550000\n",
       "93   0.381443       0.4   0.333333  0.000000  1.000000  0.433333\n",
       "335  0.148866       0.2   0.000000  0.000000  0.666667  0.206667\n",
       "412  0.065979       0.4   0.000000  0.333333  0.000000  0.160000\n",
       "471  0.144330       0.4   0.000000  0.333333  0.000000  0.120000"
      ]
     },
     "execution_count": 31,
     "metadata": {},
     "output_type": "execute_result"
    }
   ],
   "source": [
    "# Normalized train set\n",
    "df_new_train[num_vars] = scaler.fit_transform(df_new_train[num_vars])\n",
    "\n",
    "# Normalized test set\n",
    "df_new_test[num_vars] = scaler.fit_transform(df_new_test[num_vars])\n",
    "df_new_train.head()"
   ]
  },
  {
   "cell_type": "code",
   "execution_count": 32,
   "id": "42e11ae5-4dff-485c-ab30-99eec3a7087d",
   "metadata": {},
   "outputs": [],
   "source": [
    "# split features and labels in train set\n",
    "y_norm_train = df_new_train.pop('price')\n",
    "X_norm_train = df_new_train.copy()\n",
    "\n",
    "# split features and labels in test set\n",
    "y_norm_test = df_new_test.pop('price')\n",
    "X_norm_test = df_new_test.copy()"
   ]
  },
  {
   "cell_type": "code",
   "execution_count": 33,
   "id": "2bcb71dc-6313-489e-8a62-976c9200c8d5",
   "metadata": {},
   "outputs": [],
   "source": [
    "# Extract values from train set dataframes\n",
    "y_train = y_norm_train.values\n",
    "X_train = X_norm_train.values\n",
    "\n",
    "# Extract values from test set dataframes\n",
    "y_test = y_norm_test.values\n",
    "X_test = X_norm_test.values"
   ]
  },
  {
   "cell_type": "code",
   "execution_count": 34,
   "id": "4a7738a9-1675-4655-a98b-c22e0fc5cd97",
   "metadata": {},
   "outputs": [],
   "source": [
    "# initialize alpha and number of iterations\n",
    "alpha = 0.07\n",
    "iterations = 5000"
   ]
  },
  {
   "cell_type": "code",
   "execution_count": 35,
   "id": "aa33146a-a106-4837-81fc-cee7b05cb0a8",
   "metadata": {},
   "outputs": [
    {
     "name": "stdout",
     "output_type": "stream",
     "text": [
      "Initial train set cost for given values of thetas = 23.38076507586667\n",
      "Initial test set cost for given values of thetas = 6.400204637281909\n",
      "Final value of theta\n",
      " [0.06106362 0.4276229  0.07301228 0.33826214 0.14133862 0.09655966]\n",
      "Last ten train Loss history\n",
      " [0.0061225 0.0061225 0.0061225 0.0061225 0.0061225 0.0061225 0.0061225\n",
      " 0.0061225 0.0061225 0.0061225]\n",
      "Last ten test Loss history\n",
      " [0.010759   0.01075902 0.01075903 0.01075904 0.01075905 0.01075907\n",
      " 0.01075908 0.01075909 0.01075911 0.01075912]\n"
     ]
    }
   ],
   "source": [
    "# Evaluate loss for on training set\n",
    "train_loss_history, test_loss_history = RunLinearRegression2(X_train, y_train, X_test, y_test, alpha, iterations)"
   ]
  },
  {
   "cell_type": "code",
   "execution_count": 36,
   "id": "a33d9ffc-4cad-4793-a8df-ae16d796a09d",
   "metadata": {},
   "outputs": [
    {
     "data": {
      "image/png": "[encoded data removed]",
      "text/plain": [
       "<Figure size 720x432 with 1 Axes>"
      ]
     },
     "metadata": {
      "needs_background": "light"
     },
     "output_type": "display_data"
    }
   ],
   "source": [
    "# plot the loss history\n",
    "plt.plot(range(1, iterations+1), train_loss_history, color='blue', label='Training loss')\n",
    "plt.plot(range(1, iterations+1), test_loss_history, color='red', label='Validation loss')\n",
    "plt.rcParams[\"figure.figsize\"] = (10,6)\n",
    "plt.grid()\n",
    "plt.xlabel('Number of iterations')\n",
    "plt.ylabel('Cost (J)')\n",
    "plt.title('Convergence of gradient descent')\n",
    "plt.legend()\n",
    "plt.show()"
   ]
  },
  {
   "cell_type": "markdown",
   "id": "f6796e64-9752-4256-af69-a38b073dbba6",
   "metadata": {},
   "source": [
    "### Using StandardScaler"
   ]
  },
  {
   "cell_type": "code",
   "execution_count": 37,
   "id": "1ed06529-4977-472b-912e-8916624ff294",
   "metadata": {},
   "outputs": [
    {
     "data": {
      "text/html": [
       "<div>\n",
       "<style scoped>\n",
       "    .dataframe tbody tr th:only-of-type {\n",
       "        vertical-align: middle;\n",
       "    }\n",
       "\n",
       "    .dataframe tbody tr th {\n",
       "        vertical-align: top;\n",
       "    }\n",
       "\n",
       "    .dataframe thead th {\n",
       "        text-align: right;\n",
       "    }\n",
       "</style>\n",
       "<table border=\"1\" class=\"dataframe\">\n",
       "  <thead>\n",
       "    <tr style=\"text-align: right;\">\n",
       "      <th></th>\n",
       "      <th>area</th>\n",
       "      <th>bedrooms</th>\n",
       "      <th>bathrooms</th>\n",
       "      <th>stories</th>\n",
       "      <th>parking</th>\n",
       "      <th>price</th>\n",
       "    </tr>\n",
       "  </thead>\n",
       "  <tbody>\n",
       "    <tr>\n",
       "      <th>46</th>\n",
       "      <td>6000</td>\n",
       "      <td>3</td>\n",
       "      <td>2</td>\n",
       "      <td>4</td>\n",
       "      <td>1</td>\n",
       "      <td>7525000</td>\n",
       "    </tr>\n",
       "    <tr>\n",
       "      <th>93</th>\n",
       "      <td>7200</td>\n",
       "      <td>3</td>\n",
       "      <td>2</td>\n",
       "      <td>1</td>\n",
       "      <td>3</td>\n",
       "      <td>6300000</td>\n",
       "    </tr>\n",
       "    <tr>\n",
       "      <th>335</th>\n",
       "      <td>3816</td>\n",
       "      <td>2</td>\n",
       "      <td>1</td>\n",
       "      <td>1</td>\n",
       "      <td>2</td>\n",
       "      <td>3920000</td>\n",
       "    </tr>\n",
       "    <tr>\n",
       "      <th>412</th>\n",
       "      <td>2610</td>\n",
       "      <td>3</td>\n",
       "      <td>1</td>\n",
       "      <td>2</td>\n",
       "      <td>0</td>\n",
       "      <td>3430000</td>\n",
       "    </tr>\n",
       "    <tr>\n",
       "      <th>471</th>\n",
       "      <td>3750</td>\n",
       "      <td>3</td>\n",
       "      <td>1</td>\n",
       "      <td>2</td>\n",
       "      <td>0</td>\n",
       "      <td>3010000</td>\n",
       "    </tr>\n",
       "  </tbody>\n",
       "</table>\n",
       "</div>"
      ],
      "text/plain": [
       "     area  bedrooms  bathrooms  stories  parking    price\n",
       "46   6000         3          2        4        1  7525000\n",
       "93   7200         3          2        1        3  6300000\n",
       "335  3816         2          1        1        2  3920000\n",
       "412  2610         3          1        2        0  3430000\n",
       "471  3750         3          1        2        0  3010000"
      ]
     },
     "execution_count": 37,
     "metadata": {},
     "output_type": "execute_result"
    }
   ],
   "source": [
    "df_new_train = df_train[num_vars]\n",
    "df_new_test = df_test[num_vars]\n",
    "df_new_train.head()"
   ]
  },
  {
   "cell_type": "code",
   "execution_count": 38,
   "id": "c08d8a6f-2131-4e3f-82d5-3ff9b2c2ff4e",
   "metadata": {},
   "outputs": [],
   "source": [
    "# Initialize the StandardScaler\n",
    "scaler = StandardScaler()"
   ]
  },
  {
   "cell_type": "code",
   "execution_count": 39,
   "id": "9818e89e-f4be-41eb-8d68-d57190cf5ebf",
   "metadata": {},
   "outputs": [
    {
     "data": {
      "text/html": [
       "<div>\n",
       "<style scoped>\n",
       "    .dataframe tbody tr th:only-of-type {\n",
       "        vertical-align: middle;\n",
       "    }\n",
       "\n",
       "    .dataframe tbody tr th {\n",
       "        vertical-align: top;\n",
       "    }\n",
       "\n",
       "    .dataframe thead th {\n",
       "        text-align: right;\n",
       "    }\n",
       "</style>\n",
       "<table border=\"1\" class=\"dataframe\">\n",
       "  <thead>\n",
       "    <tr style=\"text-align: right;\">\n",
       "      <th></th>\n",
       "      <th>area</th>\n",
       "      <th>bedrooms</th>\n",
       "      <th>bathrooms</th>\n",
       "      <th>stories</th>\n",
       "      <th>parking</th>\n",
       "      <th>price</th>\n",
       "    </tr>\n",
       "  </thead>\n",
       "  <tbody>\n",
       "    <tr>\n",
       "      <th>46</th>\n",
       "      <td>0.384168</td>\n",
       "      <td>0.055271</td>\n",
       "      <td>1.539173</td>\n",
       "      <td>2.587644</td>\n",
       "      <td>0.367957</td>\n",
       "      <td>1.605090</td>\n",
       "    </tr>\n",
       "    <tr>\n",
       "      <th>93</th>\n",
       "      <td>0.929181</td>\n",
       "      <td>0.055271</td>\n",
       "      <td>1.539173</td>\n",
       "      <td>-0.912499</td>\n",
       "      <td>2.709987</td>\n",
       "      <td>0.907466</td>\n",
       "    </tr>\n",
       "    <tr>\n",
       "      <th>335</th>\n",
       "      <td>-0.607755</td>\n",
       "      <td>-1.283514</td>\n",
       "      <td>-0.557950</td>\n",
       "      <td>-0.912499</td>\n",
       "      <td>1.538972</td>\n",
       "      <td>-0.447919</td>\n",
       "    </tr>\n",
       "    <tr>\n",
       "      <th>412</th>\n",
       "      <td>-1.155492</td>\n",
       "      <td>0.055271</td>\n",
       "      <td>-0.557950</td>\n",
       "      <td>0.254215</td>\n",
       "      <td>-0.803059</td>\n",
       "      <td>-0.726969</td>\n",
       "    </tr>\n",
       "    <tr>\n",
       "      <th>471</th>\n",
       "      <td>-0.637730</td>\n",
       "      <td>0.055271</td>\n",
       "      <td>-0.557950</td>\n",
       "      <td>0.254215</td>\n",
       "      <td>-0.803059</td>\n",
       "      <td>-0.966154</td>\n",
       "    </tr>\n",
       "  </tbody>\n",
       "</table>\n",
       "</div>"
      ],
      "text/plain": [
       "         area  bedrooms  bathrooms   stories   parking     price\n",
       "46   0.384168  0.055271   1.539173  2.587644  0.367957  1.605090\n",
       "93   0.929181  0.055271   1.539173 -0.912499  2.709987  0.907466\n",
       "335 -0.607755 -1.283514  -0.557950 -0.912499  1.538972 -0.447919\n",
       "412 -1.155492  0.055271  -0.557950  0.254215 -0.803059 -0.726969\n",
       "471 -0.637730  0.055271  -0.557950  0.254215 -0.803059 -0.966154"
      ]
     },
     "execution_count": 39,
     "metadata": {},
     "output_type": "execute_result"
    }
   ],
   "source": [
    "# Normalized train set\n",
    "df_new_train[num_vars] = scaler.fit_transform(df_new_train[num_vars])\n",
    "\n",
    "# Normalized test set\n",
    "df_new_test[num_vars] = scaler.fit_transform(df_new_test[num_vars])\n",
    "df_new_train.head()"
   ]
  },
  {
   "cell_type": "code",
   "execution_count": 40,
   "id": "e1cbf36f-f355-4c24-ba8b-6e51adddd188",
   "metadata": {},
   "outputs": [],
   "source": [
    "# split features and labels in train set\n",
    "y_norm_train = df_new_train.pop('price')\n",
    "X_norm_train = df_new_train.copy()\n",
    "\n",
    "# split features and labels in test set\n",
    "y_norm_test = df_new_test.pop('price')\n",
    "X_norm_test = df_new_test.copy()\n",
    "\n",
    "# Extract values from train set dataframes\n",
    "y_train = y_norm_train.values\n",
    "X_train = X_norm_train.values\n",
    "\n",
    "# Extract values from test set dataframes\n",
    "y_test = y_norm_test.values\n",
    "X_test = X_norm_test.values"
   ]
  },
  {
   "cell_type": "code",
   "execution_count": 41,
   "id": "c04c40a7-17e0-438f-8a1f-14bde5ca9c01",
   "metadata": {},
   "outputs": [],
   "source": [
    "# initialize alpha and number of iterations\n",
    "alpha = 0.07\n",
    "iterations = 200"
   ]
  },
  {
   "cell_type": "code",
   "execution_count": 42,
   "id": "c93da8e7-641b-4517-876f-e764f09025bf",
   "metadata": {},
   "outputs": [
    {
     "name": "stdout",
     "output_type": "stream",
     "text": [
      "Initial train set cost for given values of thetas = 217.99999999999997\n",
      "Initial test set cost for given values of thetas = 54.50000000000002\n",
      "Final value of theta\n",
      " [-2.32505147e-16  3.87276615e-01  6.43808210e-02  3.21974112e-01\n",
      "  2.41639880e-01  1.64218426e-01]\n",
      "Last ten train Loss history\n",
      " [0.21891606 0.21891606 0.21891606 0.21891606 0.21891606 0.21891606\n",
      " 0.21891606 0.21891606 0.21891606 0.21891606]\n",
      "Last ten test Loss history\n",
      " [0.21166532 0.21166539 0.21166545 0.21166552 0.21166557 0.21166563\n",
      " 0.21166569 0.21166574 0.21166579 0.21166584]\n"
     ]
    }
   ],
   "source": [
    "# Evaluate loss for on training set\n",
    "train_loss_history, test_loss_history = RunLinearRegression2(X_train, y_train, X_test, y_test, alpha, iterations)"
   ]
  },
  {
   "cell_type": "code",
   "execution_count": 43,
   "id": "6dc0eaf7-c016-4fd4-83c0-79cbbb97179a",
   "metadata": {},
   "outputs": [
    {
     "data": {
      "image/png": "[encoded data removed]",
      "text/plain": [
       "<Figure size 720x432 with 1 Axes>"
      ]
     },
     "metadata": {
      "needs_background": "light"
     },
     "output_type": "display_data"
    }
   ],
   "source": [
    "# plot the loss history\n",
    "plt.plot(range(1, iterations+1), train_loss_history, color='blue', label='Training loss')\n",
    "plt.plot(range(1, iterations+1), test_loss_history, color='red', label='Validation loss')\n",
    "plt.rcParams[\"figure.figsize\"] = (10,6)\n",
    "plt.grid()\n",
    "plt.xlabel('Number of iterations')\n",
    "plt.ylabel('Cost (J)')\n",
    "plt.title('Convergence of gradient descent')\n",
    "plt.legend()\n",
    "plt.show()"
   ]
  },
  {
   "cell_type": "markdown",
   "id": "38b39ea7-8236-42ee-b03c-dbe2abf6c29f",
   "metadata": {},
   "source": [
    "## Problem 2.b.\n",
    "### Using MinMaxScaler"
   ]
  },
  {
   "cell_type": "code",
   "execution_count": 44,
   "id": "bf1877d8-deb2-49d2-afa7-c8d6b9bc7952",
   "metadata": {},
   "outputs": [
    {
     "data": {
      "text/html": [
       "<div>\n",
       "<style scoped>\n",
       "    .dataframe tbody tr th:only-of-type {\n",
       "        vertical-align: middle;\n",
       "    }\n",
       "\n",
       "    .dataframe tbody tr th {\n",
       "        vertical-align: top;\n",
       "    }\n",
       "\n",
       "    .dataframe thead th {\n",
       "        text-align: right;\n",
       "    }\n",
       "</style>\n",
       "<table border=\"1\" class=\"dataframe\">\n",
       "  <thead>\n",
       "    <tr style=\"text-align: right;\">\n",
       "      <th></th>\n",
       "      <th>area</th>\n",
       "      <th>bedrooms</th>\n",
       "      <th>bathrooms</th>\n",
       "      <th>stories</th>\n",
       "      <th>mainroad</th>\n",
       "      <th>guestroom</th>\n",
       "      <th>basement</th>\n",
       "      <th>hotwaterheating</th>\n",
       "      <th>airconditioning</th>\n",
       "      <th>parking</th>\n",
       "      <th>prefarea</th>\n",
       "      <th>price</th>\n",
       "    </tr>\n",
       "  </thead>\n",
       "  <tbody>\n",
       "    <tr>\n",
       "      <th>46</th>\n",
       "      <td>6000</td>\n",
       "      <td>3</td>\n",
       "      <td>2</td>\n",
       "      <td>4</td>\n",
       "      <td>1</td>\n",
       "      <td>0</td>\n",
       "      <td>0</td>\n",
       "      <td>0</td>\n",
       "      <td>1</td>\n",
       "      <td>1</td>\n",
       "      <td>0</td>\n",
       "      <td>7525000</td>\n",
       "    </tr>\n",
       "    <tr>\n",
       "      <th>93</th>\n",
       "      <td>7200</td>\n",
       "      <td>3</td>\n",
       "      <td>2</td>\n",
       "      <td>1</td>\n",
       "      <td>1</td>\n",
       "      <td>0</td>\n",
       "      <td>1</td>\n",
       "      <td>0</td>\n",
       "      <td>1</td>\n",
       "      <td>3</td>\n",
       "      <td>0</td>\n",
       "      <td>6300000</td>\n",
       "    </tr>\n",
       "    <tr>\n",
       "      <th>335</th>\n",
       "      <td>3816</td>\n",
       "      <td>2</td>\n",
       "      <td>1</td>\n",
       "      <td>1</td>\n",
       "      <td>1</td>\n",
       "      <td>0</td>\n",
       "      <td>1</td>\n",
       "      <td>0</td>\n",
       "      <td>1</td>\n",
       "      <td>2</td>\n",
       "      <td>0</td>\n",
       "      <td>3920000</td>\n",
       "    </tr>\n",
       "    <tr>\n",
       "      <th>412</th>\n",
       "      <td>2610</td>\n",
       "      <td>3</td>\n",
       "      <td>1</td>\n",
       "      <td>2</td>\n",
       "      <td>1</td>\n",
       "      <td>0</td>\n",
       "      <td>1</td>\n",
       "      <td>0</td>\n",
       "      <td>0</td>\n",
       "      <td>0</td>\n",
       "      <td>1</td>\n",
       "      <td>3430000</td>\n",
       "    </tr>\n",
       "    <tr>\n",
       "      <th>471</th>\n",
       "      <td>3750</td>\n",
       "      <td>3</td>\n",
       "      <td>1</td>\n",
       "      <td>2</td>\n",
       "      <td>1</td>\n",
       "      <td>0</td>\n",
       "      <td>0</td>\n",
       "      <td>0</td>\n",
       "      <td>0</td>\n",
       "      <td>0</td>\n",
       "      <td>0</td>\n",
       "      <td>3010000</td>\n",
       "    </tr>\n",
       "  </tbody>\n",
       "</table>\n",
       "</div>"
      ],
      "text/plain": [
       "     area  bedrooms  bathrooms  stories  mainroad  guestroom  basement  \\\n",
       "46   6000         3          2        4         1          0         0   \n",
       "93   7200         3          2        1         1          0         1   \n",
       "335  3816         2          1        1         1          0         1   \n",
       "412  2610         3          1        2         1          0         1   \n",
       "471  3750         3          1        2         1          0         0   \n",
       "\n",
       "     hotwaterheating  airconditioning  parking  prefarea    price  \n",
       "46                 0                1        1         0  7525000  \n",
       "93                 0                1        3         0  6300000  \n",
       "335                0                1        2         0  3920000  \n",
       "412                0                0        0         1  3430000  \n",
       "471                0                0        0         0  3010000  "
      ]
     },
     "execution_count": 44,
     "metadata": {},
     "output_type": "execute_result"
    }
   ],
   "source": [
    "num_vars = ['area', 'bedrooms', 'bathrooms', \\\n",
    "            'stories','mainroad', 'guestroom', \\\n",
    "            'basement', 'hotwaterheating', 'airconditioning', \\\n",
    "            'parking', 'prefarea', 'price']\n",
    "\n",
    "df_new_train = df_train[num_vars]\n",
    "df_new_test = df_test[num_vars]\n",
    "df_new_train.head()"
   ]
  },
  {
   "cell_type": "code",
   "execution_count": 45,
   "id": "16b7de85-c867-4990-aaf6-a96cce99d72b",
   "metadata": {},
   "outputs": [],
   "source": [
    "# Initialize the MinMaxScaler\n",
    "scaler = MinMaxScaler() \n",
    "\n",
    "# Normalized train set\n",
    "df_new_train[num_vars] = scaler.fit_transform(df_new_train[num_vars])\n",
    "\n",
    "# Normalized test set\n",
    "df_new_test[num_vars] = scaler.fit_transform(df_new_test[num_vars])\n",
    "\n",
    "# split features and labels in train set\n",
    "y_norm_train = df_new_train.pop('price')\n",
    "X_norm_train = df_new_train.copy()\n",
    "\n",
    "# split features and labels in test set\n",
    "y_norm_test = df_new_test.pop('price')\n",
    "X_norm_test = df_new_test.copy()\n",
    "\n",
    "# Extract values from train set dataframes\n",
    "y_train = y_norm_train.values\n",
    "X_train = X_norm_train.values\n",
    "\n",
    "# Extract values from test set dataframes\n",
    "y_test = y_norm_test.values\n",
    "X_test = X_norm_test.values"
   ]
  },
  {
   "cell_type": "code",
   "execution_count": 46,
   "id": "4c45252b-ba7d-4080-8209-c8067502c1f0",
   "metadata": {},
   "outputs": [],
   "source": [
    "# initialize alpha and number of iterations\n",
    "alpha = 0.05\n",
    "iterations = 10000"
   ]
  },
  {
   "cell_type": "code",
   "execution_count": 47,
   "id": "c5157b0d-801a-4cf8-a8df-84b095f29b50",
   "metadata": {},
   "outputs": [
    {
     "name": "stdout",
     "output_type": "stream",
     "text": [
      "Initial train set cost for given values of thetas = 23.38076507586667\n",
      "Initial test set cost for given values of thetas = 6.400204637281909\n",
      "Final value of theta\n",
      " [0.01750661 0.32933579 0.03757911 0.31686295 0.1219358  0.03932317\n",
      " 0.023207   0.04142007 0.06783841 0.07699635 0.0707033  0.0606436 ]\n",
      "Last ten train Loss history\n",
      " [0.00450105 0.00450105 0.00450105 0.00450105 0.00450105 0.00450105\n",
      " 0.00450105 0.00450105 0.00450105 0.00450105]\n",
      "Last ten test Loss history\n",
      " [0.00865081 0.00865081 0.00865081 0.00865081 0.00865081 0.00865082\n",
      " 0.00865082 0.00865082 0.00865082 0.00865082]\n"
     ]
    }
   ],
   "source": [
    "# Evaluate loss for on training set\n",
    "train_loss_history, test_loss_history = RunLinearRegression2(X_train, y_train, X_test, y_test, alpha, iterations)"
   ]
  },
  {
   "cell_type": "code",
   "execution_count": 48,
   "id": "19b67299-fa72-419a-b42d-045137b95756",
   "metadata": {},
   "outputs": [
    {
     "data": {
      "image/png": "[encoded data removed]",
      "text/plain": [
       "<Figure size 720x432 with 1 Axes>"
      ]
     },
     "metadata": {
      "needs_background": "light"
     },
     "output_type": "display_data"
    }
   ],
   "source": [
    "# plot the loss history\n",
    "plt.plot(range(1, iterations+1), train_loss_history, color='blue', label='Training loss')\n",
    "plt.plot(range(1, iterations+1), test_loss_history, color='red', label='Validation loss')\n",
    "plt.rcParams[\"figure.figsize\"] = (10,6)\n",
    "plt.grid()\n",
    "plt.xlabel('Number of iterations')\n",
    "plt.ylabel('Cost (J)')\n",
    "plt.title('Convergence of gradient descent')\n",
    "plt.legend()\n",
    "plt.show()"
   ]
  },
  {
   "cell_type": "markdown",
   "id": "cc1de8f3-45a9-4085-80cc-a4bf1bca8261",
   "metadata": {},
   "source": [
    "### Using the StandardScaler"
   ]
  },
  {
   "cell_type": "code",
   "execution_count": 49,
   "id": "c25ddff1-9b2e-4fd2-a78b-2e8b28e389a6",
   "metadata": {},
   "outputs": [
    {
     "data": {
      "text/html": [
       "<div>\n",
       "<style scoped>\n",
       "    .dataframe tbody tr th:only-of-type {\n",
       "        vertical-align: middle;\n",
       "    }\n",
       "\n",
       "    .dataframe tbody tr th {\n",
       "        vertical-align: top;\n",
       "    }\n",
       "\n",
       "    .dataframe thead th {\n",
       "        text-align: right;\n",
       "    }\n",
       "</style>\n",
       "<table border=\"1\" class=\"dataframe\">\n",
       "  <thead>\n",
       "    <tr style=\"text-align: right;\">\n",
       "      <th></th>\n",
       "      <th>area</th>\n",
       "      <th>bedrooms</th>\n",
       "      <th>bathrooms</th>\n",
       "      <th>stories</th>\n",
       "      <th>mainroad</th>\n",
       "      <th>guestroom</th>\n",
       "      <th>basement</th>\n",
       "      <th>hotwaterheating</th>\n",
       "      <th>airconditioning</th>\n",
       "      <th>parking</th>\n",
       "      <th>prefarea</th>\n",
       "      <th>price</th>\n",
       "    </tr>\n",
       "  </thead>\n",
       "  <tbody>\n",
       "    <tr>\n",
       "      <th>46</th>\n",
       "      <td>6000</td>\n",
       "      <td>3</td>\n",
       "      <td>2</td>\n",
       "      <td>4</td>\n",
       "      <td>1</td>\n",
       "      <td>0</td>\n",
       "      <td>0</td>\n",
       "      <td>0</td>\n",
       "      <td>1</td>\n",
       "      <td>1</td>\n",
       "      <td>0</td>\n",
       "      <td>7525000</td>\n",
       "    </tr>\n",
       "    <tr>\n",
       "      <th>93</th>\n",
       "      <td>7200</td>\n",
       "      <td>3</td>\n",
       "      <td>2</td>\n",
       "      <td>1</td>\n",
       "      <td>1</td>\n",
       "      <td>0</td>\n",
       "      <td>1</td>\n",
       "      <td>0</td>\n",
       "      <td>1</td>\n",
       "      <td>3</td>\n",
       "      <td>0</td>\n",
       "      <td>6300000</td>\n",
       "    </tr>\n",
       "    <tr>\n",
       "      <th>335</th>\n",
       "      <td>3816</td>\n",
       "      <td>2</td>\n",
       "      <td>1</td>\n",
       "      <td>1</td>\n",
       "      <td>1</td>\n",
       "      <td>0</td>\n",
       "      <td>1</td>\n",
       "      <td>0</td>\n",
       "      <td>1</td>\n",
       "      <td>2</td>\n",
       "      <td>0</td>\n",
       "      <td>3920000</td>\n",
       "    </tr>\n",
       "    <tr>\n",
       "      <th>412</th>\n",
       "      <td>2610</td>\n",
       "      <td>3</td>\n",
       "      <td>1</td>\n",
       "      <td>2</td>\n",
       "      <td>1</td>\n",
       "      <td>0</td>\n",
       "      <td>1</td>\n",
       "      <td>0</td>\n",
       "      <td>0</td>\n",
       "      <td>0</td>\n",
       "      <td>1</td>\n",
       "      <td>3430000</td>\n",
       "    </tr>\n",
       "    <tr>\n",
       "      <th>471</th>\n",
       "      <td>3750</td>\n",
       "      <td>3</td>\n",
       "      <td>1</td>\n",
       "      <td>2</td>\n",
       "      <td>1</td>\n",
       "      <td>0</td>\n",
       "      <td>0</td>\n",
       "      <td>0</td>\n",
       "      <td>0</td>\n",
       "      <td>0</td>\n",
       "      <td>0</td>\n",
       "      <td>3010000</td>\n",
       "    </tr>\n",
       "  </tbody>\n",
       "</table>\n",
       "</div>"
      ],
      "text/plain": [
       "     area  bedrooms  bathrooms  stories  mainroad  guestroom  basement  \\\n",
       "46   6000         3          2        4         1          0         0   \n",
       "93   7200         3          2        1         1          0         1   \n",
       "335  3816         2          1        1         1          0         1   \n",
       "412  2610         3          1        2         1          0         1   \n",
       "471  3750         3          1        2         1          0         0   \n",
       "\n",
       "     hotwaterheating  airconditioning  parking  prefarea    price  \n",
       "46                 0                1        1         0  7525000  \n",
       "93                 0                1        3         0  6300000  \n",
       "335                0                1        2         0  3920000  \n",
       "412                0                0        0         1  3430000  \n",
       "471                0                0        0         0  3010000  "
      ]
     },
     "execution_count": 49,
     "metadata": {},
     "output_type": "execute_result"
    }
   ],
   "source": [
    "df_new_train = df_train[num_vars]\n",
    "df_new_test = df_test[num_vars]\n",
    "df_new_train.head()"
   ]
  },
  {
   "cell_type": "code",
   "execution_count": 50,
   "id": "404c7eba-36dc-4496-b42c-aca49181b726",
   "metadata": {},
   "outputs": [],
   "source": [
    "# Initialize the StandardScaler\n",
    "scaler = StandardScaler()\n",
    "\n",
    "# Normalized train set\n",
    "df_new_train[num_vars] = scaler.fit_transform(df_new_train[num_vars])\n",
    "\n",
    "# Normalized test set\n",
    "df_new_test[num_vars] = scaler.fit_transform(df_new_test[num_vars])\n",
    "\n",
    "# split features and labels in train set\n",
    "y_norm_train = df_new_train.pop('price')\n",
    "X_norm_train = df_new_train.copy()\n",
    "\n",
    "# split features and labels in test set\n",
    "y_norm_test = df_new_test.pop('price')\n",
    "X_norm_test = df_new_test.copy()\n",
    "\n",
    "# Extract values from train set dataframes\n",
    "y_train = y_norm_train.values\n",
    "X_train = X_norm_train.values\n",
    "\n",
    "# Extract values from test set dataframes\n",
    "y_test = y_norm_test.values\n",
    "X_test = X_norm_test.values"
   ]
  },
  {
   "cell_type": "code",
   "execution_count": 51,
   "id": "ab026375-dbd5-4ac0-8c86-4099e973e43a",
   "metadata": {},
   "outputs": [],
   "source": [
    "# initialize alpha and number of iterations\n",
    "alpha = 0.01\n",
    "iterations = 3000"
   ]
  },
  {
   "cell_type": "code",
   "execution_count": 52,
   "id": "898a4801-438b-433a-aeae-94b99c2fec1c",
   "metadata": {},
   "outputs": [
    {
     "name": "stdout",
     "output_type": "stream",
     "text": [
      "Initial train set cost for given values of thetas = 217.99999999999997\n",
      "Initial test set cost for given values of thetas = 54.50000000000002\n",
      "Final value of theta\n",
      " [-2.11810691e-16  2.98063221e-01  3.33855502e-02  3.01245784e-01\n",
      "  2.08379895e-01  8.20810195e-02  5.31714972e-02  1.18749960e-01\n",
      "  8.87876163e-02  2.12417392e-01  1.20336746e-01  1.53520797e-01]\n",
      "Last ten train Loss history\n",
      " [0.16093978 0.16093978 0.16093978 0.16093978 0.16093978 0.16093978\n",
      " 0.16093978 0.16093978 0.16093978 0.16093978]\n",
      "Last ten test Loss history\n",
      " [0.16041555 0.16041556 0.16041556 0.16041556 0.16041556 0.16041556\n",
      " 0.16041556 0.16041556 0.16041556 0.16041556]\n"
     ]
    }
   ],
   "source": [
    "# Evaluate loss for on training set\n",
    "train_loss_history, test_loss_history = RunLinearRegression2(X_train, y_train, X_test, y_test, alpha, iterations)"
   ]
  },
  {
   "cell_type": "code",
   "execution_count": 53,
   "id": "d39f2a9d-f2cb-4821-b364-5f5ecffe5f9a",
   "metadata": {},
   "outputs": [
    {
     "data": {
      "image/png": "[encoded data removed]",
      "text/plain": [
       "<Figure size 720x432 with 1 Axes>"
      ]
     },
     "metadata": {
      "needs_background": "light"
     },
     "output_type": "display_data"
    }
   ],
   "source": [
    "# plot the loss history\n",
    "plt.plot(range(1, iterations+1), train_loss_history, color='blue', label='Training loss')\n",
    "plt.plot(range(1, iterations+1), test_loss_history, color='red', label='Validation loss')\n",
    "plt.rcParams[\"figure.figsize\"] = (10,6)\n",
    "plt.grid()\n",
    "plt.xlabel('Number of iterations')\n",
    "plt.ylabel('Cost (J)')\n",
    "plt.title('Convergence of gradient descent')\n",
    "plt.legend()\n",
    "plt.show()"
   ]
  },
  {
   "cell_type": "markdown",
   "id": "7906ab45-45e6-4ea8-b275-58557154c493",
   "metadata": {},
   "source": [
    "## Problem 3\n",
    "\n",
    "### Modified loss function and gradient descent."
   ]
  },
  {
   "cell_type": "code",
   "execution_count": 54,
   "id": "fae3da3e-9fdf-4719-be0d-8fe2ec7037ba",
   "metadata": {},
   "outputs": [],
   "source": [
    "def compute_loss2(X, y, m, lam, theta):\n",
    "    \"\"\"\n",
    "    Compute loss for linear regression with parameter penalization.\n",
    "    \n",
    "    Input Parameters\n",
    "    ----------------\n",
    "    X : mxn array where each row represent the training example and each column represent a feature\n",
    "        m= number of training examples\n",
    "        n= number of features (including X_0 column of ones)\n",
    "    y : 1D array of labels/target value for each training example. Dimension(m,1)\n",
    "    theta : nx1 array of fitting parameters or weights. Dimension (n,1)\n",
    "    \n",
    "    Output Parameters\n",
    "    -----------------\n",
    "    J : Scalar values. \n",
    "    \"\"\"\n",
    "    predictions = X.dot(theta) # predictions = h\n",
    "    errors = np.subtract(predictions, y)\n",
    "    sqrErrors = np.square(errors)\n",
    "    sqrTheta = np.square(theta[1:])\n",
    "    J = 1 / (2*m) * (np.sum(sqrErrors) + (lam*np.sum(sqrTheta)))\n",
    "    \n",
    "    return J"
   ]
  },
  {
   "cell_type": "code",
   "execution_count": 55,
   "id": "3cd2a20d-5433-43f1-9c30-c3ee5a5e62d7",
   "metadata": {},
   "outputs": [],
   "source": [
    "def gradient_descent2(X_train, y_train, m_train, X_test, y_test, m_test, theta, alpha, lam, iterations):\n",
    "    \"\"\"\n",
    "    Compute cost for linear regression with parameter penalization.\n",
    "    \n",
    "    Input Parameters\n",
    "    ----------------\n",
    "    X : mxn array where each row represent the training example and each column represent a feature\n",
    "        m= number of training examples\n",
    "        n= number of features (including X_0 column of ones)\n",
    "    y : 1D array of labels/target value for each training example. Dimension(m,1)\n",
    "    theta : nx1 array of fitting parameters or weights. Dimension (n,1)\n",
    "    alpha : Learning rate. Scalar value.\n",
    "    iterations: Number of iterations. Scalar value.\n",
    "    \n",
    "    Output Parameters\n",
    "    -----------------\n",
    "    theta : Final value. 1xn array of fitting parameters of weights. Dimension (1xn)\n",
    "    cost_history : Contains value of cost for each iteration. Dimension (mx1)\n",
    "    \"\"\"\n",
    "    train_loss_history = np.zeros(iterations)\n",
    "    test_loss_history = np.zeros(iterations)\n",
    "    \n",
    "    for i in range(iterations):\n",
    "        predictions = X_train.dot(theta) # prediction (m,1)\n",
    "        errors = np.subtract(predictions, y_train) # Error (m,1) = temp\n",
    "        sum_delta = (alpha/m_train) * X_train.transpose().dot(errors) # sum_delta (n,1)\n",
    "\n",
    "        theta[0] = theta[0] - sum_delta[0]\n",
    "        theta[1:] = ((1 - (alpha*(lam/m_train)))*theta[1:]) - sum_delta[1:]\n",
    "        \n",
    "        train_loss_history[i] = compute_loss2(X_train, y_train, m_train, lam, theta)\n",
    "        test_loss_history[i] = compute_loss(X_test, y_test, m_test, theta)\n",
    "    \n",
    "    return theta, train_loss_history, test_loss_history"
   ]
  },
  {
   "cell_type": "code",
   "execution_count": 56,
   "id": "3c3b1be1-61e9-4ef1-b9a1-5a041e99a492",
   "metadata": {},
   "outputs": [],
   "source": [
    "# Linear regression with parameter penalization\n",
    "def RunLinearRegression2(X_train, y_train, X_test, y_test, alpha, lam, iterations):\n",
    "    \n",
    "    # Get train set dimensions\n",
    "    m_train = len(X_train)\n",
    "    n_train = len(X_train[0, :])\n",
    "    \n",
    "    # Get test set dimensions\n",
    "    m_test = len(X_test)\n",
    "    n_test = len(X_test[0, :])\n",
    "    \n",
    "    # Check if number of features in test set is the same as train set\n",
    "    if n_test != n_train:\n",
    "        return \"Error: Check your number of features!\"\n",
    "\n",
    "    # Reshape the input matrix as a column vector and append X0.\n",
    "    X_train = transform_and_append_X0(X_train, m_train, n_train)\n",
    "    X_test = transform_and_append_X0(X_test, m_test, n_test)\n",
    "\n",
    "    # Initialize the theta parameters\n",
    "    theta = np.zeros((n_train+1, 1))\n",
    "\n",
    "    # compute the train cost for theta values\n",
    "    train_loss = compute_loss2(X_train, y_train, m_train, lam, theta)\n",
    "    # print('Initial train set cost for given values of thetas =', train_loss)\n",
    "    \n",
    "    # compute the test cost for theta values\n",
    "    test_loss = compute_loss(X_test, y_test, m_test, theta)\n",
    "    # print('Initial test set cost for given values of thetas =', test_loss)\n",
    "\n",
    "    # Initialize theta.\n",
    "    theta = np.zeros((n_train+1))\n",
    "\n",
    "    # Run the gradient descent with the given parameter\n",
    "    theta, train_loss_history, test_loss_history = gradient_descent2(X_train, y_train, m_train, \n",
    "                                                                    X_test, y_test, m_test,\n",
    "                                                                    theta, alpha, lam, iterations)\n",
    "    return theta, train_loss_history, test_loss_history"
   ]
  },
  {
   "cell_type": "markdown",
   "id": "6630c3d4-91df-4b1a-9357-a639b3bc0241",
   "metadata": {},
   "source": [
    "### Part a.\n",
    "### Using MinMaxScaler"
   ]
  },
  {
   "cell_type": "code",
   "execution_count": 57,
   "id": "439b525e-1c78-491a-a99a-a8c05c697aaf",
   "metadata": {},
   "outputs": [
    {
     "data": {
      "text/html": [
       "<div>\n",
       "<style scoped>\n",
       "    .dataframe tbody tr th:only-of-type {\n",
       "        vertical-align: middle;\n",
       "    }\n",
       "\n",
       "    .dataframe tbody tr th {\n",
       "        vertical-align: top;\n",
       "    }\n",
       "\n",
       "    .dataframe thead th {\n",
       "        text-align: right;\n",
       "    }\n",
       "</style>\n",
       "<table border=\"1\" class=\"dataframe\">\n",
       "  <thead>\n",
       "    <tr style=\"text-align: right;\">\n",
       "      <th></th>\n",
       "      <th>area</th>\n",
       "      <th>bedrooms</th>\n",
       "      <th>bathrooms</th>\n",
       "      <th>stories</th>\n",
       "      <th>parking</th>\n",
       "      <th>price</th>\n",
       "    </tr>\n",
       "  </thead>\n",
       "  <tbody>\n",
       "    <tr>\n",
       "      <th>46</th>\n",
       "      <td>6000</td>\n",
       "      <td>3</td>\n",
       "      <td>2</td>\n",
       "      <td>4</td>\n",
       "      <td>1</td>\n",
       "      <td>7525000</td>\n",
       "    </tr>\n",
       "    <tr>\n",
       "      <th>93</th>\n",
       "      <td>7200</td>\n",
       "      <td>3</td>\n",
       "      <td>2</td>\n",
       "      <td>1</td>\n",
       "      <td>3</td>\n",
       "      <td>6300000</td>\n",
       "    </tr>\n",
       "    <tr>\n",
       "      <th>335</th>\n",
       "      <td>3816</td>\n",
       "      <td>2</td>\n",
       "      <td>1</td>\n",
       "      <td>1</td>\n",
       "      <td>2</td>\n",
       "      <td>3920000</td>\n",
       "    </tr>\n",
       "    <tr>\n",
       "      <th>412</th>\n",
       "      <td>2610</td>\n",
       "      <td>3</td>\n",
       "      <td>1</td>\n",
       "      <td>2</td>\n",
       "      <td>0</td>\n",
       "      <td>3430000</td>\n",
       "    </tr>\n",
       "    <tr>\n",
       "      <th>471</th>\n",
       "      <td>3750</td>\n",
       "      <td>3</td>\n",
       "      <td>1</td>\n",
       "      <td>2</td>\n",
       "      <td>0</td>\n",
       "      <td>3010000</td>\n",
       "    </tr>\n",
       "  </tbody>\n",
       "</table>\n",
       "</div>"
      ],
      "text/plain": [
       "     area  bedrooms  bathrooms  stories  parking    price\n",
       "46   6000         3          2        4        1  7525000\n",
       "93   7200         3          2        1        3  6300000\n",
       "335  3816         2          1        1        2  3920000\n",
       "412  2610         3          1        2        0  3430000\n",
       "471  3750         3          1        2        0  3010000"
      ]
     },
     "execution_count": 57,
     "metadata": {},
     "output_type": "execute_result"
    }
   ],
   "source": [
    "num_vars = ['area', 'bedrooms', 'bathrooms', \\\n",
    "            'stories', 'parking', 'price']\n",
    "\n",
    "df_new_train = df_train[num_vars]\n",
    "df_new_test = df_test[num_vars]\n",
    "df_new_train.head()"
   ]
  },
  {
   "cell_type": "code",
   "execution_count": 58,
   "id": "4c377673-1269-47f8-ac0c-f227279109fe",
   "metadata": {},
   "outputs": [],
   "source": [
    "# Initialize the MinMaxScaler\n",
    "scaler = MinMaxScaler() \n",
    "\n",
    "# Normalized train set\n",
    "df_new_train[num_vars] = scaler.fit_transform(df_new_train[num_vars])\n",
    "\n",
    "# Normalized test set\n",
    "df_new_test[num_vars] = scaler.fit_transform(df_new_test[num_vars])\n",
    "\n",
    "# split features and labels in train set\n",
    "y_norm_train = df_new_train.pop('price')\n",
    "X_norm_train = df_new_train.copy()\n",
    "\n",
    "# split features and labels in test set\n",
    "y_norm_test = df_new_test.pop('price')\n",
    "X_norm_test = df_new_test.copy()\n",
    "\n",
    "# Extract values from train set dataframes\n",
    "y_train = y_norm_train.values\n",
    "X_train = X_norm_train.values\n",
    "\n",
    "# Extract values from test set dataframes\n",
    "y_test = y_norm_test.values\n",
    "X_test = X_norm_test.values"
   ]
  },
  {
   "cell_type": "code",
   "execution_count": 59,
   "id": "02b70fd9-80a2-4966-9e86-1aa14af17abe",
   "metadata": {},
   "outputs": [],
   "source": [
    "# initialize alpha and number of iterations\n",
    "alpha = 0.01\n",
    "iterations = 5000"
   ]
  },
  {
   "cell_type": "code",
   "execution_count": 60,
   "id": "e792a03b-9415-4bba-bac4-b8a30797e56f",
   "metadata": {},
   "outputs": [
    {
     "data": {
      "image/png": "[encoded data removed]",
      "text/plain": [
       "<Figure size 720x432 with 1 Axes>"
      ]
     },
     "metadata": {
      "needs_background": "light"
     },
     "output_type": "display_data"
    }
   ],
   "source": [
    "theta = list()\n",
    "train_loss_history = list() \n",
    "test_loss_history = list()\n",
    "test_loss = {}\n",
    "for i in np.arange(0, 20, 1):\n",
    "    theta, train_loss_history, test_loss_history = RunLinearRegression2(X_train, y_train, X_test, y_test, alpha, i, iterations)\n",
    "    test_loss[i] = test_loss_history[-1]\n",
    "\n",
    "# # print(test_loss)\n",
    "plt.plot(test_loss.keys(), test_loss.values())\n",
    "plt.grid()\n",
    "plt.xlabel('Lambda values')\n",
    "plt.ylabel('Final validation loss')\n",
    "plt.title('Validation Loss vs Lambda')\n",
    "plt.show()"
   ]
  },
  {
   "cell_type": "code",
   "execution_count": 61,
   "id": "e4a3a18b-f118-4093-98fb-79fa97d98ea1",
   "metadata": {},
   "outputs": [
    {
     "name": "stdout",
     "output_type": "stream",
     "text": [
      "Final lambda value\n",
      " 4\n",
      "Final values of theta\n",
      " [0.09623126 0.25222817 0.09754609 0.21862442 0.14630162 0.12776445]\n",
      "Last ten train_loss_history values\n",
      " [0.05246234 0.05133042 0.05022899 ... 0.00737514 0.00737509 0.00737505]\n",
      "Last ten test_loss_history values\n",
      " [0.0575063  0.05632757 0.05518042 ... 0.00916764 0.00916766 0.00916769]\n"
     ]
    }
   ],
   "source": [
    "# Lambda value with the minimal validation loss.\n",
    "lam = min(test_loss, key=test_loss.get)\n",
    "\n",
    "# Evaluate loss for on training and validation set\n",
    "theta, train_loss_history, test_loss_history = RunLinearRegression2(X_train, y_train, X_test, y_test, alpha, lam, iterations)\n",
    "print(\"Final lambda value\\n\", lam)\n",
    "print(\"Final values of theta\\n\", theta)\n",
    "print(\"Last ten train_loss_history values\\n\", train_loss_history)\n",
    "print(\"Last ten test_loss_history values\\n\", test_loss_history)"
   ]
  },
  {
   "cell_type": "code",
   "execution_count": 62,
   "id": "23e27351-7e97-4ec0-bbf8-e28a41e229e5",
   "metadata": {},
   "outputs": [
    {
     "data": {
      "image/png": "[encoded data removed]",
      "text/plain": [
       "<Figure size 720x432 with 1 Axes>"
      ]
     },
     "metadata": {
      "needs_background": "light"
     },
     "output_type": "display_data"
    }
   ],
   "source": [
    "# plot the loss history\n",
    "plt.plot(range(1, iterations+1), train_loss_history, color='blue', label='Training loss')\n",
    "plt.plot(range(1, iterations+1), test_loss_history, color='red', label='Validation loss')\n",
    "plt.rcParams[\"figure.figsize\"] = (10,6)\n",
    "plt.grid()\n",
    "plt.xlabel('Number of iterations')\n",
    "plt.ylabel('Cost (J)')\n",
    "plt.title('Convergence of gradient descent')\n",
    "plt.legend()\n",
    "plt.show()"
   ]
  },
  {
   "cell_type": "markdown",
   "id": "4313611f-8d45-4502-87b0-77151c2b6f33",
   "metadata": {},
   "source": [
    "### Using StandardScaler"
   ]
  },
  {
   "cell_type": "code",
   "execution_count": 63,
   "id": "5086626f-305c-41d9-9c5a-fa9720def702",
   "metadata": {},
   "outputs": [
    {
     "data": {
      "text/html": [
       "<div>\n",
       "<style scoped>\n",
       "    .dataframe tbody tr th:only-of-type {\n",
       "        vertical-align: middle;\n",
       "    }\n",
       "\n",
       "    .dataframe tbody tr th {\n",
       "        vertical-align: top;\n",
       "    }\n",
       "\n",
       "    .dataframe thead th {\n",
       "        text-align: right;\n",
       "    }\n",
       "</style>\n",
       "<table border=\"1\" class=\"dataframe\">\n",
       "  <thead>\n",
       "    <tr style=\"text-align: right;\">\n",
       "      <th></th>\n",
       "      <th>area</th>\n",
       "      <th>bedrooms</th>\n",
       "      <th>bathrooms</th>\n",
       "      <th>stories</th>\n",
       "      <th>parking</th>\n",
       "      <th>price</th>\n",
       "    </tr>\n",
       "  </thead>\n",
       "  <tbody>\n",
       "    <tr>\n",
       "      <th>46</th>\n",
       "      <td>6000</td>\n",
       "      <td>3</td>\n",
       "      <td>2</td>\n",
       "      <td>4</td>\n",
       "      <td>1</td>\n",
       "      <td>7525000</td>\n",
       "    </tr>\n",
       "    <tr>\n",
       "      <th>93</th>\n",
       "      <td>7200</td>\n",
       "      <td>3</td>\n",
       "      <td>2</td>\n",
       "      <td>1</td>\n",
       "      <td>3</td>\n",
       "      <td>6300000</td>\n",
       "    </tr>\n",
       "    <tr>\n",
       "      <th>335</th>\n",
       "      <td>3816</td>\n",
       "      <td>2</td>\n",
       "      <td>1</td>\n",
       "      <td>1</td>\n",
       "      <td>2</td>\n",
       "      <td>3920000</td>\n",
       "    </tr>\n",
       "    <tr>\n",
       "      <th>412</th>\n",
       "      <td>2610</td>\n",
       "      <td>3</td>\n",
       "      <td>1</td>\n",
       "      <td>2</td>\n",
       "      <td>0</td>\n",
       "      <td>3430000</td>\n",
       "    </tr>\n",
       "    <tr>\n",
       "      <th>471</th>\n",
       "      <td>3750</td>\n",
       "      <td>3</td>\n",
       "      <td>1</td>\n",
       "      <td>2</td>\n",
       "      <td>0</td>\n",
       "      <td>3010000</td>\n",
       "    </tr>\n",
       "  </tbody>\n",
       "</table>\n",
       "</div>"
      ],
      "text/plain": [
       "     area  bedrooms  bathrooms  stories  parking    price\n",
       "46   6000         3          2        4        1  7525000\n",
       "93   7200         3          2        1        3  6300000\n",
       "335  3816         2          1        1        2  3920000\n",
       "412  2610         3          1        2        0  3430000\n",
       "471  3750         3          1        2        0  3010000"
      ]
     },
     "execution_count": 63,
     "metadata": {},
     "output_type": "execute_result"
    }
   ],
   "source": [
    "df_new_train = df_train[num_vars]\n",
    "df_new_test = df_test[num_vars]\n",
    "df_new_train.head()"
   ]
  },
  {
   "cell_type": "code",
   "execution_count": 64,
   "id": "8e4606c9-0184-4693-be11-ba54ca859ae2",
   "metadata": {},
   "outputs": [],
   "source": [
    "# Initialize the StandardScaler\n",
    "scaler = StandardScaler()\n",
    "\n",
    "# Normalized train set\n",
    "df_new_train[num_vars] = scaler.fit_transform(df_new_train[num_vars])\n",
    "\n",
    "# Normalized test set\n",
    "df_new_test[num_vars] = scaler.fit_transform(df_new_test[num_vars])\n",
    "\n",
    "# split features and labels in train set\n",
    "y_norm_train = df_new_train.pop('price')\n",
    "X_norm_train = df_new_train.copy()\n",
    "\n",
    "# split features and labels in test set\n",
    "y_norm_test = df_new_test.pop('price')\n",
    "X_norm_test = df_new_test.copy()\n",
    "\n",
    "# Extract values from train set dataframes\n",
    "y_train = y_norm_train.values\n",
    "X_train = X_norm_train.values\n",
    "\n",
    "# Extract values from test set dataframes\n",
    "y_test = y_norm_test.values\n",
    "X_test = X_norm_test.values"
   ]
  },
  {
   "cell_type": "code",
   "execution_count": 65,
   "id": "c288381d-5b99-4162-9f5f-9f7a0e174f46",
   "metadata": {},
   "outputs": [],
   "source": [
    "# initialize alpha and number of iterations\n",
    "alpha = 0.007\n",
    "iterations = 2000"
   ]
  },
  {
   "cell_type": "code",
   "execution_count": 66,
   "id": "73bddd81-761d-4adf-8298-2feea16d7c8f",
   "metadata": {},
   "outputs": [
    {
     "data": {
      "image/png": "[encoded data removed]",
      "text/plain": [
       "<Figure size 720x432 with 1 Axes>"
      ]
     },
     "metadata": {
      "needs_background": "light"
     },
     "output_type": "display_data"
    }
   ],
   "source": [
    "theta = list()\n",
    "train_loss_history = list() \n",
    "test_loss_history = list()\n",
    "test_loss = {}\n",
    "for i in np.arange(0, 20, 1):\n",
    "    theta, train_loss_history, test_loss_history = RunLinearRegression2(X_train, y_train, X_test, y_test, alpha, i, iterations)\n",
    "    test_loss[i] = test_loss_history[-1]\n",
    "\n",
    "# # print(test_loss)\n",
    "plt.plot(test_loss.keys(), test_loss.values())\n",
    "plt.grid()\n",
    "plt.xlabel('Lambda values')\n",
    "plt.ylabel('Final validation loss')\n",
    "plt.title('Validation Loss vs Lambda')\n",
    "plt.show()"
   ]
  },
  {
   "cell_type": "code",
   "execution_count": 67,
   "id": "b12ce8ae-8181-44dd-8f37-4c6511d77a4c",
   "metadata": {},
   "outputs": [
    {
     "name": "stdout",
     "output_type": "stream",
     "text": [
      "Final lambda value\n",
      " 8\n",
      "Final values of theta\n",
      " [-2.26512489e-16  3.81075517e-01  6.74241032e-02  3.17419393e-01\n",
      "  2.37932177e-01  1.63943300e-01]\n",
      "Last ten train_loss_history values\n",
      " [0.49294952 0.48608473 0.47940066 ... 0.22202214 0.22202214 0.22202214]\n",
      "Last ten test_loss_history values\n",
      " [0.49281177 0.48581011 0.47899009 ... 0.21161867 0.21161868 0.21161868]\n"
     ]
    }
   ],
   "source": [
    "# Lambda value with the minimal validation loss.\n",
    "lam = min(test_loss, key=test_loss.get)\n",
    "\n",
    "# Evaluate loss for on training and validation set\n",
    "theta, train_loss_history, test_loss_history = RunLinearRegression2(X_train, y_train, X_test, y_test, alpha, lam, iterations)\n",
    "print(\"Final lambda value\\n\", lam)\n",
    "print(\"Final values of theta\\n\", theta)\n",
    "print(\"Last ten train_loss_history values\\n\", train_loss_history)\n",
    "print(\"Last ten test_loss_history values\\n\", test_loss_history)"
   ]
  },
  {
   "cell_type": "code",
   "execution_count": 68,
   "id": "4dba20d1-e28b-4373-846d-8a13dcfd31ca",
   "metadata": {},
   "outputs": [
    {
     "data": {
      "image/png": "[encoded data removed]",
      "text/plain": [
       "<Figure size 720x432 with 1 Axes>"
      ]
     },
     "metadata": {
      "needs_background": "light"
     },
     "output_type": "display_data"
    }
   ],
   "source": [
    "# plot the loss history\n",
    "plt.plot(range(1, iterations+1), train_loss_history, color='blue', label='Training loss')\n",
    "plt.plot(range(1, iterations+1), test_loss_history, color='red', label='Validation loss')\n",
    "plt.rcParams[\"figure.figsize\"] = (10,6)\n",
    "plt.grid()\n",
    "plt.xlabel('Number of iterations')\n",
    "plt.ylabel('Cost (J)')\n",
    "plt.title('Convergence of gradient descent')\n",
    "plt.legend()\n",
    "plt.show()"
   ]
  },
  {
   "cell_type": "markdown",
   "id": "d776be8c-d75c-479e-9795-72849e9955b3",
   "metadata": {},
   "source": [
    "### Part b.\n",
    "### Using MinMaxScaler"
   ]
  },
  {
   "cell_type": "code",
   "execution_count": 69,
   "id": "8d696a84-4952-4daf-b61e-5a5fbfe771ea",
   "metadata": {},
   "outputs": [
    {
     "data": {
      "text/html": [
       "<div>\n",
       "<style scoped>\n",
       "    .dataframe tbody tr th:only-of-type {\n",
       "        vertical-align: middle;\n",
       "    }\n",
       "\n",
       "    .dataframe tbody tr th {\n",
       "        vertical-align: top;\n",
       "    }\n",
       "\n",
       "    .dataframe thead th {\n",
       "        text-align: right;\n",
       "    }\n",
       "</style>\n",
       "<table border=\"1\" class=\"dataframe\">\n",
       "  <thead>\n",
       "    <tr style=\"text-align: right;\">\n",
       "      <th></th>\n",
       "      <th>area</th>\n",
       "      <th>bedrooms</th>\n",
       "      <th>bathrooms</th>\n",
       "      <th>stories</th>\n",
       "      <th>mainroad</th>\n",
       "      <th>guestroom</th>\n",
       "      <th>basement</th>\n",
       "      <th>hotwaterheating</th>\n",
       "      <th>airconditioning</th>\n",
       "      <th>parking</th>\n",
       "      <th>prefarea</th>\n",
       "      <th>price</th>\n",
       "    </tr>\n",
       "  </thead>\n",
       "  <tbody>\n",
       "    <tr>\n",
       "      <th>46</th>\n",
       "      <td>6000</td>\n",
       "      <td>3</td>\n",
       "      <td>2</td>\n",
       "      <td>4</td>\n",
       "      <td>1</td>\n",
       "      <td>0</td>\n",
       "      <td>0</td>\n",
       "      <td>0</td>\n",
       "      <td>1</td>\n",
       "      <td>1</td>\n",
       "      <td>0</td>\n",
       "      <td>7525000</td>\n",
       "    </tr>\n",
       "    <tr>\n",
       "      <th>93</th>\n",
       "      <td>7200</td>\n",
       "      <td>3</td>\n",
       "      <td>2</td>\n",
       "      <td>1</td>\n",
       "      <td>1</td>\n",
       "      <td>0</td>\n",
       "      <td>1</td>\n",
       "      <td>0</td>\n",
       "      <td>1</td>\n",
       "      <td>3</td>\n",
       "      <td>0</td>\n",
       "      <td>6300000</td>\n",
       "    </tr>\n",
       "    <tr>\n",
       "      <th>335</th>\n",
       "      <td>3816</td>\n",
       "      <td>2</td>\n",
       "      <td>1</td>\n",
       "      <td>1</td>\n",
       "      <td>1</td>\n",
       "      <td>0</td>\n",
       "      <td>1</td>\n",
       "      <td>0</td>\n",
       "      <td>1</td>\n",
       "      <td>2</td>\n",
       "      <td>0</td>\n",
       "      <td>3920000</td>\n",
       "    </tr>\n",
       "    <tr>\n",
       "      <th>412</th>\n",
       "      <td>2610</td>\n",
       "      <td>3</td>\n",
       "      <td>1</td>\n",
       "      <td>2</td>\n",
       "      <td>1</td>\n",
       "      <td>0</td>\n",
       "      <td>1</td>\n",
       "      <td>0</td>\n",
       "      <td>0</td>\n",
       "      <td>0</td>\n",
       "      <td>1</td>\n",
       "      <td>3430000</td>\n",
       "    </tr>\n",
       "    <tr>\n",
       "      <th>471</th>\n",
       "      <td>3750</td>\n",
       "      <td>3</td>\n",
       "      <td>1</td>\n",
       "      <td>2</td>\n",
       "      <td>1</td>\n",
       "      <td>0</td>\n",
       "      <td>0</td>\n",
       "      <td>0</td>\n",
       "      <td>0</td>\n",
       "      <td>0</td>\n",
       "      <td>0</td>\n",
       "      <td>3010000</td>\n",
       "    </tr>\n",
       "  </tbody>\n",
       "</table>\n",
       "</div>"
      ],
      "text/plain": [
       "     area  bedrooms  bathrooms  stories  mainroad  guestroom  basement  \\\n",
       "46   6000         3          2        4         1          0         0   \n",
       "93   7200         3          2        1         1          0         1   \n",
       "335  3816         2          1        1         1          0         1   \n",
       "412  2610         3          1        2         1          0         1   \n",
       "471  3750         3          1        2         1          0         0   \n",
       "\n",
       "     hotwaterheating  airconditioning  parking  prefarea    price  \n",
       "46                 0                1        1         0  7525000  \n",
       "93                 0                1        3         0  6300000  \n",
       "335                0                1        2         0  3920000  \n",
       "412                0                0        0         1  3430000  \n",
       "471                0                0        0         0  3010000  "
      ]
     },
     "execution_count": 69,
     "metadata": {},
     "output_type": "execute_result"
    }
   ],
   "source": [
    "num_vars = ['area', 'bedrooms', 'bathrooms', \\\n",
    "            'stories','mainroad', 'guestroom', \\\n",
    "            'basement', 'hotwaterheating', 'airconditioning', \\\n",
    "            'parking', 'prefarea', 'price']\n",
    "\n",
    "df_new_train = df_train[num_vars]\n",
    "df_new_test = df_test[num_vars]\n",
    "df_new_train.head()"
   ]
  },
  {
   "cell_type": "code",
   "execution_count": 70,
   "id": "11e01c92-9fff-4f99-9984-6922c1c9fcd2",
   "metadata": {},
   "outputs": [],
   "source": [
    "# Initialize the MinMaxScaler\n",
    "scaler = MinMaxScaler() \n",
    "\n",
    "# Normalized train set\n",
    "df_new_train[num_vars] = scaler.fit_transform(df_new_train[num_vars])\n",
    "\n",
    "# Normalized test set\n",
    "df_new_test[num_vars] = scaler.fit_transform(df_new_test[num_vars])\n",
    "\n",
    "# split features and labels in train set\n",
    "y_norm_train = df_new_train.pop('price')\n",
    "X_norm_train = df_new_train.copy()\n",
    "\n",
    "# split features and labels in test set\n",
    "y_norm_test = df_new_test.pop('price')\n",
    "X_norm_test = df_new_test.copy()\n",
    "\n",
    "# Extract values from train set dataframes\n",
    "y_train = y_norm_train.values\n",
    "X_train = X_norm_train.values\n",
    "\n",
    "# Extract values from test set dataframes\n",
    "y_test = y_norm_test.values\n",
    "X_test = X_norm_test.values"
   ]
  },
  {
   "cell_type": "code",
   "execution_count": 71,
   "id": "75d1efd6-12a8-4cb2-b900-d1a7923fca5e",
   "metadata": {},
   "outputs": [],
   "source": [
    "# initialize alpha and number of iterations\n",
    "alpha = 0.02\n",
    "iterations = 2000"
   ]
  },
  {
   "cell_type": "code",
   "execution_count": 72,
   "id": "7699b6da-00dc-49d6-a4eb-2c5e44d9e11d",
   "metadata": {},
   "outputs": [
    {
     "data": {
      "image/png": "[encoded data removed]",
      "text/plain": [
       "<Figure size 720x432 with 1 Axes>"
      ]
     },
     "metadata": {
      "needs_background": "light"
     },
     "output_type": "display_data"
    }
   ],
   "source": [
    "theta = list()\n",
    "train_loss_history = list() \n",
    "test_loss_history = list()\n",
    "test_loss = {}\n",
    "for i in np.arange(0, 20, 1):\n",
    "    theta, train_loss_history, test_loss_history = RunLinearRegression2(X_train, y_train, X_test, y_test, alpha, i, iterations)\n",
    "    test_loss[i] = test_loss_history[-1]\n",
    "    # print(\"test_loss\", i, \":\", test_loss[i])\n",
    "\n",
    "# # print(test_loss)\n",
    "plt.plot(test_loss.keys(), test_loss.values())\n",
    "plt.grid()\n",
    "plt.xlabel('Lambda values')\n",
    "plt.ylabel('Final validation loss')\n",
    "plt.title('Validation Loss vs Lambda')\n",
    "plt.show()"
   ]
  },
  {
   "cell_type": "code",
   "execution_count": 73,
   "id": "5fcbd358-f06b-435d-861e-e5e5a6a50a22",
   "metadata": {},
   "outputs": [
    {
     "name": "stdout",
     "output_type": "stream",
     "text": [
      "Final lambda value\n",
      " 4\n",
      "Final values of theta\n",
      " [0.03767428 0.16864589 0.07177316 0.18358491 0.11901366 0.04921358\n",
      " 0.03469782 0.03741588 0.05700237 0.08708735 0.0965626  0.06297393]\n",
      "Last ten train_loss_history values\n",
      " [0.04922676 0.04525851 0.04167858 ... 0.00548505 0.00548492 0.0054848 ]\n",
      "Last ten test_loss_history values\n",
      " [0.05418338 0.05008821 0.04638911 ... 0.00674322 0.00674332 0.00674343]\n"
     ]
    }
   ],
   "source": [
    "# Lambda value with the minimal validation loss.\n",
    "lam = min(test_loss, key=test_loss.get)\n",
    "\n",
    "# Evaluate loss for on training and validation set\n",
    "theta, train_loss_history, test_loss_history = RunLinearRegression2(X_train, y_train, X_test, y_test, alpha, lam, iterations)\n",
    "print(\"Final lambda value\\n\", lam)\n",
    "print(\"Final values of theta\\n\", theta)\n",
    "print(\"Last ten train_loss_history values\\n\", train_loss_history)\n",
    "print(\"Last ten test_loss_history values\\n\", test_loss_history)"
   ]
  },
  {
   "cell_type": "code",
   "execution_count": 74,
   "id": "c3c1fa4d-57ae-4066-b087-5a55d94bf2ed",
   "metadata": {},
   "outputs": [
    {
     "data": {
      "image/png": "[encoded data removed]",
      "text/plain": [
       "<Figure size 720x432 with 1 Axes>"
      ]
     },
     "metadata": {
      "needs_background": "light"
     },
     "output_type": "display_data"
    }
   ],
   "source": [
    "# plot the loss history\n",
    "plt.plot(range(1, iterations+1), train_loss_history, color='blue', label='Training loss')\n",
    "plt.plot(range(1, iterations+1), test_loss_history, color='red', label='Validation loss')\n",
    "plt.rcParams[\"figure.figsize\"] = (10,6)\n",
    "plt.grid()\n",
    "plt.xlabel('Number of iterations')\n",
    "plt.ylabel('Cost (J)')\n",
    "plt.title('Convergence of gradient descent')\n",
    "plt.legend()\n",
    "plt.show()"
   ]
  },
  {
   "cell_type": "markdown",
   "id": "4c63f540-22ee-4ad5-9855-4317844e2ae0",
   "metadata": {},
   "source": [
    "### Using StandardScaler"
   ]
  },
  {
   "cell_type": "code",
   "execution_count": 75,
   "id": "4acd0f28-8879-472f-889c-6c4bde940357",
   "metadata": {},
   "outputs": [
    {
     "data": {
      "text/html": [
       "<div>\n",
       "<style scoped>\n",
       "    .dataframe tbody tr th:only-of-type {\n",
       "        vertical-align: middle;\n",
       "    }\n",
       "\n",
       "    .dataframe tbody tr th {\n",
       "        vertical-align: top;\n",
       "    }\n",
       "\n",
       "    .dataframe thead th {\n",
       "        text-align: right;\n",
       "    }\n",
       "</style>\n",
       "<table border=\"1\" class=\"dataframe\">\n",
       "  <thead>\n",
       "    <tr style=\"text-align: right;\">\n",
       "      <th></th>\n",
       "      <th>area</th>\n",
       "      <th>bedrooms</th>\n",
       "      <th>bathrooms</th>\n",
       "      <th>stories</th>\n",
       "      <th>mainroad</th>\n",
       "      <th>guestroom</th>\n",
       "      <th>basement</th>\n",
       "      <th>hotwaterheating</th>\n",
       "      <th>airconditioning</th>\n",
       "      <th>parking</th>\n",
       "      <th>prefarea</th>\n",
       "      <th>price</th>\n",
       "    </tr>\n",
       "  </thead>\n",
       "  <tbody>\n",
       "    <tr>\n",
       "      <th>46</th>\n",
       "      <td>6000</td>\n",
       "      <td>3</td>\n",
       "      <td>2</td>\n",
       "      <td>4</td>\n",
       "      <td>1</td>\n",
       "      <td>0</td>\n",
       "      <td>0</td>\n",
       "      <td>0</td>\n",
       "      <td>1</td>\n",
       "      <td>1</td>\n",
       "      <td>0</td>\n",
       "      <td>7525000</td>\n",
       "    </tr>\n",
       "    <tr>\n",
       "      <th>93</th>\n",
       "      <td>7200</td>\n",
       "      <td>3</td>\n",
       "      <td>2</td>\n",
       "      <td>1</td>\n",
       "      <td>1</td>\n",
       "      <td>0</td>\n",
       "      <td>1</td>\n",
       "      <td>0</td>\n",
       "      <td>1</td>\n",
       "      <td>3</td>\n",
       "      <td>0</td>\n",
       "      <td>6300000</td>\n",
       "    </tr>\n",
       "    <tr>\n",
       "      <th>335</th>\n",
       "      <td>3816</td>\n",
       "      <td>2</td>\n",
       "      <td>1</td>\n",
       "      <td>1</td>\n",
       "      <td>1</td>\n",
       "      <td>0</td>\n",
       "      <td>1</td>\n",
       "      <td>0</td>\n",
       "      <td>1</td>\n",
       "      <td>2</td>\n",
       "      <td>0</td>\n",
       "      <td>3920000</td>\n",
       "    </tr>\n",
       "    <tr>\n",
       "      <th>412</th>\n",
       "      <td>2610</td>\n",
       "      <td>3</td>\n",
       "      <td>1</td>\n",
       "      <td>2</td>\n",
       "      <td>1</td>\n",
       "      <td>0</td>\n",
       "      <td>1</td>\n",
       "      <td>0</td>\n",
       "      <td>0</td>\n",
       "      <td>0</td>\n",
       "      <td>1</td>\n",
       "      <td>3430000</td>\n",
       "    </tr>\n",
       "    <tr>\n",
       "      <th>471</th>\n",
       "      <td>3750</td>\n",
       "      <td>3</td>\n",
       "      <td>1</td>\n",
       "      <td>2</td>\n",
       "      <td>1</td>\n",
       "      <td>0</td>\n",
       "      <td>0</td>\n",
       "      <td>0</td>\n",
       "      <td>0</td>\n",
       "      <td>0</td>\n",
       "      <td>0</td>\n",
       "      <td>3010000</td>\n",
       "    </tr>\n",
       "  </tbody>\n",
       "</table>\n",
       "</div>"
      ],
      "text/plain": [
       "     area  bedrooms  bathrooms  stories  mainroad  guestroom  basement  \\\n",
       "46   6000         3          2        4         1          0         0   \n",
       "93   7200         3          2        1         1          0         1   \n",
       "335  3816         2          1        1         1          0         1   \n",
       "412  2610         3          1        2         1          0         1   \n",
       "471  3750         3          1        2         1          0         0   \n",
       "\n",
       "     hotwaterheating  airconditioning  parking  prefarea    price  \n",
       "46                 0                1        1         0  7525000  \n",
       "93                 0                1        3         0  6300000  \n",
       "335                0                1        2         0  3920000  \n",
       "412                0                0        0         1  3430000  \n",
       "471                0                0        0         0  3010000  "
      ]
     },
     "execution_count": 75,
     "metadata": {},
     "output_type": "execute_result"
    }
   ],
   "source": [
    "df_new_train = df_train[num_vars]\n",
    "df_new_test = df_test[num_vars]\n",
    "df_new_train.head()"
   ]
  },
  {
   "cell_type": "code",
   "execution_count": 76,
   "id": "ce0ba37a-35ed-4765-a3ab-083f120bccb2",
   "metadata": {},
   "outputs": [],
   "source": [
    "# Initialize the StandardScaler\n",
    "scaler = StandardScaler()\n",
    "\n",
    "# Normalized train set\n",
    "df_new_train[num_vars] = scaler.fit_transform(df_new_train[num_vars])\n",
    "\n",
    "# Normalized test set\n",
    "df_new_test[num_vars] = scaler.fit_transform(df_new_test[num_vars])\n",
    "\n",
    "# split features and labels in train set\n",
    "y_norm_train = df_new_train.pop('price')\n",
    "X_norm_train = df_new_train.copy()\n",
    "\n",
    "# split features and labels in test set\n",
    "y_norm_test = df_new_test.pop('price')\n",
    "X_norm_test = df_new_test.copy()\n",
    "\n",
    "# Extract values from train set dataframes\n",
    "y_train = y_norm_train.values\n",
    "X_train = X_norm_train.values\n",
    "\n",
    "# Extract values from test set dataframes\n",
    "y_test = y_norm_test.values\n",
    "X_test = X_norm_test.values"
   ]
  },
  {
   "cell_type": "code",
   "execution_count": 77,
   "id": "b67a5b0d-00b1-4d6e-9f76-d3c15e360e3f",
   "metadata": {},
   "outputs": [],
   "source": [
    "# initialize alpha and number of iterations\n",
    "alpha = 0.007\n",
    "iterations = 2000"
   ]
  },
  {
   "cell_type": "code",
   "execution_count": 78,
   "id": "09ef9f41-345f-4111-b318-9eda00b578ac",
   "metadata": {},
   "outputs": [
    {
     "data": {
      "image/png": "[encoded data removed]",
      "text/plain": [
       "<Figure size 720x432 with 1 Axes>"
      ]
     },
     "metadata": {
      "needs_background": "light"
     },
     "output_type": "display_data"
    }
   ],
   "source": [
    "theta = list()\n",
    "train_loss_history = list() \n",
    "test_loss_history = list()\n",
    "test_loss = {}\n",
    "for i in np.arange(50, 60, 1):\n",
    "    theta, train_loss_history, test_loss_history = RunLinearRegression2(X_train, y_train, X_test, y_test, alpha, i, iterations)\n",
    "    test_loss[i] = test_loss_history[-1]\n",
    "    # print(\"test_loss\", i, \":\", test_loss[i])\n",
    "\n",
    "# # print(test_loss)\n",
    "plt.plot(test_loss.keys(), test_loss.values())\n",
    "plt.grid()\n",
    "plt.xlabel('Lambda values')\n",
    "plt.ylabel('Final validation loss')\n",
    "plt.title('Validation Loss vs Lambda')\n",
    "plt.show()\n",
    "# Evaluate loss for on training set\n",
    "# print(\"Final values of theta\\n\", theta)\n",
    "# print(\"Last ten train_loss_history values\\n\", train_loss_history)\n",
    "# print(\"Last ten test_loss_history values\\n\", test_loss_history)"
   ]
  },
  {
   "cell_type": "code",
   "execution_count": 79,
   "id": "da06b29f-341a-493c-ad21-3b988fbdeaa2",
   "metadata": {},
   "outputs": [
    {
     "name": "stdout",
     "output_type": "stream",
     "text": [
      "Final values of theta\n",
      " [-2.08882096e-16  2.70540497e-01  5.40457716e-02  2.74463097e-01\n",
      "  1.87332411e-01  8.67686086e-02  6.14149406e-02  1.03649045e-01\n",
      "  7.82996583e-02  2.00842154e-01  1.21430477e-01  1.41511026e-01]\n",
      "Last ten train_loss_history values\n",
      " [0.48934168 0.47904839 0.4691075  ... 0.18031153 0.18031153 0.18031153]\n",
      "Last ten test_loss_history values\n",
      " [0.48926754 0.47888504 0.4688408  ... 0.15817618 0.15817619 0.1581762 ]\n"
     ]
    }
   ],
   "source": [
    "# Lambda value with the minimal validation loss.\n",
    "lam = min(test_loss, key=test_loss.get)\n",
    "\n",
    "# Evaluate loss for on training and validation set\n",
    "theta, train_loss_history, test_loss_history = RunLinearRegression2(X_train, y_train, X_test, y_test, alpha, lam, iterations)\n",
    "print(\"Final values of theta\\n\", theta)\n",
    "print(\"Last ten train_loss_history values\\n\", train_loss_history)\n",
    "print(\"Last ten test_loss_history values\\n\", test_loss_history)"
   ]
  },
  {
   "cell_type": "code",
   "execution_count": 80,
   "id": "baef0eff-133e-482e-adf3-7be803d61ff1",
   "metadata": {},
   "outputs": [
    {
     "data": {
      "image/png": "[encoded data removed]",
      "text/plain": [
       "<Figure size 720x432 with 1 Axes>"
      ]
     },
     "metadata": {
      "needs_background": "light"
     },
     "output_type": "display_data"
    }
   ],
   "source": [
    "# plot the loss history\n",
    "plt.plot(range(1, iterations+1), train_loss_history, color='blue', label='Training loss')\n",
    "plt.plot(range(1, iterations+1), test_loss_history, color='red', label='Validation loss')\n",
    "plt.rcParams[\"figure.figsize\"] = (10,6)\n",
    "plt.grid()\n",
    "plt.xlabel('Number of iterations')\n",
    "plt.ylabel('Cost (J)')\n",
    "plt.title('Convergence of gradient descent')\n",
    "plt.legend()\n",
    "plt.show()"
   ]
  },
  {
   "cell_type": "code",
   "execution_count": null,
   "id": "d887e1fd-c86a-45e7-b70b-0bf8fb23c01e",
   "metadata": {},
   "outputs": [],
   "source": []
  }
 ],
 "metadata": {
  "kernelspec": {
   "display_name": "Python 3 (ipykernel)",
   "language": "python",
   "name": "python3"
  },
  "language_info": {
   "codemirror_mode": {
    "name": "ipython",
    "version": 3
   },
   "file_extension": ".py",
   "mimetype": "text/x-python",
   "name": "python",
   "nbconvert_exporter": "python",
   "pygments_lexer": "ipython3",
   "version": "3.9.12"
  }
 },
 "nbformat": 4,
 "nbformat_minor": 5
}
