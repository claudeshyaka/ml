{
 "cells": [
  {
   "cell_type": "markdown",
   "id": "975252d8-79eb-42db-8cad-adf8274ce077",
   "metadata": {},
   "source": [
    "### Claude Shyaka\n",
    "### ID#:\n",
    "\n",
    "# Homework 1: Estimate Housing Price Using Linear Regression With Gradient Descent"
   ]
  },
  {
   "cell_type": "code",
   "execution_count": 1,
   "id": "1efdedec-294c-4ce2-8946-bc187f488d19",
   "metadata": {
    "jupyter": {
     "source_hidden": true
    },
    "tags": []
   },
   "outputs": [],
   "source": [
    "import numpy as np\n",
    "import pandas as pd\n",
    "import matplotlib.pyplot as plt\n",
    "from sklearn.preprocessing import MinMaxScaler, StandardScaler\n",
    "import warnings\n",
    "warnings.filterwarnings('ignore')"
   ]
  },
  {
   "cell_type": "code",
   "execution_count": 2,
   "id": "cd3ef242-dd8a-45b9-af0b-35e4cc13a973",
   "metadata": {
    "jupyter": {
     "source_hidden": true
    },
    "tags": []
   },
   "outputs": [],
   "source": [
    "# Loading the dataset\n",
    "housing = pd.read_csv('./data/Housing.csv', delimiter=',')"
   ]
  },
  {
   "cell_type": "code",
   "execution_count": 3,
   "id": "ee6f3fb1-fabd-4a17-af8a-54901337a13f",
   "metadata": {
    "jupyter": {
     "source_hidden": true
    },
    "tags": []
   },
   "outputs": [
    {
     "data": {
      "text/html": [
       "<div>\n",
       "<style scoped>\n",
       "    .dataframe tbody tr th:only-of-type {\n",
       "        vertical-align: middle;\n",
       "    }\n",
       "\n",
       "    .dataframe tbody tr th {\n",
       "        vertical-align: top;\n",
       "    }\n",
       "\n",
       "    .dataframe thead th {\n",
       "        text-align: right;\n",
       "    }\n",
       "</style>\n",
       "<table border=\"1\" class=\"dataframe\">\n",
       "  <thead>\n",
       "    <tr style=\"text-align: right;\">\n",
       "      <th></th>\n",
       "      <th>price</th>\n",
       "      <th>area</th>\n",
       "      <th>bedrooms</th>\n",
       "      <th>bathrooms</th>\n",
       "      <th>stories</th>\n",
       "      <th>mainroad</th>\n",
       "      <th>guestroom</th>\n",
       "      <th>basement</th>\n",
       "      <th>hotwaterheating</th>\n",
       "      <th>airconditioning</th>\n",
       "      <th>parking</th>\n",
       "      <th>prefarea</th>\n",
       "      <th>furnishingstatus</th>\n",
       "    </tr>\n",
       "  </thead>\n",
       "  <tbody>\n",
       "    <tr>\n",
       "      <th>0</th>\n",
       "      <td>13300000</td>\n",
       "      <td>7420</td>\n",
       "      <td>4</td>\n",
       "      <td>2</td>\n",
       "      <td>3</td>\n",
       "      <td>yes</td>\n",
       "      <td>no</td>\n",
       "      <td>no</td>\n",
       "      <td>no</td>\n",
       "      <td>yes</td>\n",
       "      <td>2</td>\n",
       "      <td>yes</td>\n",
       "      <td>furnished</td>\n",
       "    </tr>\n",
       "    <tr>\n",
       "      <th>1</th>\n",
       "      <td>12250000</td>\n",
       "      <td>8960</td>\n",
       "      <td>4</td>\n",
       "      <td>4</td>\n",
       "      <td>4</td>\n",
       "      <td>yes</td>\n",
       "      <td>no</td>\n",
       "      <td>no</td>\n",
       "      <td>no</td>\n",
       "      <td>yes</td>\n",
       "      <td>3</td>\n",
       "      <td>no</td>\n",
       "      <td>furnished</td>\n",
       "    </tr>\n",
       "    <tr>\n",
       "      <th>2</th>\n",
       "      <td>12250000</td>\n",
       "      <td>9960</td>\n",
       "      <td>3</td>\n",
       "      <td>2</td>\n",
       "      <td>2</td>\n",
       "      <td>yes</td>\n",
       "      <td>no</td>\n",
       "      <td>yes</td>\n",
       "      <td>no</td>\n",
       "      <td>no</td>\n",
       "      <td>2</td>\n",
       "      <td>yes</td>\n",
       "      <td>semi-furnished</td>\n",
       "    </tr>\n",
       "    <tr>\n",
       "      <th>3</th>\n",
       "      <td>12215000</td>\n",
       "      <td>7500</td>\n",
       "      <td>4</td>\n",
       "      <td>2</td>\n",
       "      <td>2</td>\n",
       "      <td>yes</td>\n",
       "      <td>no</td>\n",
       "      <td>yes</td>\n",
       "      <td>no</td>\n",
       "      <td>yes</td>\n",
       "      <td>3</td>\n",
       "      <td>yes</td>\n",
       "      <td>furnished</td>\n",
       "    </tr>\n",
       "    <tr>\n",
       "      <th>4</th>\n",
       "      <td>11410000</td>\n",
       "      <td>7420</td>\n",
       "      <td>4</td>\n",
       "      <td>1</td>\n",
       "      <td>2</td>\n",
       "      <td>yes</td>\n",
       "      <td>yes</td>\n",
       "      <td>yes</td>\n",
       "      <td>no</td>\n",
       "      <td>yes</td>\n",
       "      <td>2</td>\n",
       "      <td>no</td>\n",
       "      <td>furnished</td>\n",
       "    </tr>\n",
       "  </tbody>\n",
       "</table>\n",
       "</div>"
      ],
      "text/plain": [
       "      price  area  bedrooms  bathrooms  stories mainroad guestroom basement  \\\n",
       "0  13300000  7420         4          2        3      yes        no       no   \n",
       "1  12250000  8960         4          4        4      yes        no       no   \n",
       "2  12250000  9960         3          2        2      yes        no      yes   \n",
       "3  12215000  7500         4          2        2      yes        no      yes   \n",
       "4  11410000  7420         4          1        2      yes       yes      yes   \n",
       "\n",
       "  hotwaterheating airconditioning  parking prefarea furnishingstatus  \n",
       "0              no             yes        2      yes        furnished  \n",
       "1              no             yes        3       no        furnished  \n",
       "2              no              no        2      yes   semi-furnished  \n",
       "3              no             yes        3      yes        furnished  \n",
       "4              no             yes        2       no        furnished  "
      ]
     },
     "execution_count": 3,
     "metadata": {},
     "output_type": "execute_result"
    }
   ],
   "source": [
    "housing.head()"
   ]
  },
  {
   "cell_type": "code",
   "execution_count": 4,
   "id": "4f7bf035-1b5e-4565-b6eb-e80b5983a3e5",
   "metadata": {
    "jupyter": {
     "source_hidden": true
    },
    "tags": []
   },
   "outputs": [
    {
     "data": {
      "text/plain": [
       "545"
      ]
     },
     "execution_count": 4,
     "metadata": {},
     "output_type": "execute_result"
    }
   ],
   "source": [
    "m = len(housing)\n",
    "m"
   ]
  },
  {
   "cell_type": "code",
   "execution_count": 5,
   "id": "ff559de8-d3bd-4e97-9ac5-7b43fd6494a5",
   "metadata": {
    "jupyter": {
     "source_hidden": true
    },
    "tags": []
   },
   "outputs": [
    {
     "data": {
      "text/plain": [
       "(545, 13)"
      ]
     },
     "execution_count": 5,
     "metadata": {},
     "output_type": "execute_result"
    }
   ],
   "source": [
    "housing.shape"
   ]
  },
  {
   "cell_type": "code",
   "execution_count": 6,
   "id": "f46c16d4-c831-410f-b772-4170b8cc338c",
   "metadata": {
    "jupyter": {
     "source_hidden": true
    },
    "tags": []
   },
   "outputs": [
    {
     "data": {
      "text/html": [
       "<div>\n",
       "<style scoped>\n",
       "    .dataframe tbody tr th:only-of-type {\n",
       "        vertical-align: middle;\n",
       "    }\n",
       "\n",
       "    .dataframe tbody tr th {\n",
       "        vertical-align: top;\n",
       "    }\n",
       "\n",
       "    .dataframe thead th {\n",
       "        text-align: right;\n",
       "    }\n",
       "</style>\n",
       "<table border=\"1\" class=\"dataframe\">\n",
       "  <thead>\n",
       "    <tr style=\"text-align: right;\">\n",
       "      <th></th>\n",
       "      <th>price</th>\n",
       "      <th>area</th>\n",
       "      <th>bedrooms</th>\n",
       "      <th>bathrooms</th>\n",
       "      <th>stories</th>\n",
       "      <th>mainroad</th>\n",
       "      <th>guestroom</th>\n",
       "      <th>basement</th>\n",
       "      <th>hotwaterheating</th>\n",
       "      <th>airconditioning</th>\n",
       "      <th>parking</th>\n",
       "      <th>prefarea</th>\n",
       "      <th>furnishingstatus</th>\n",
       "    </tr>\n",
       "  </thead>\n",
       "  <tbody>\n",
       "    <tr>\n",
       "      <th>0</th>\n",
       "      <td>13300000</td>\n",
       "      <td>7420</td>\n",
       "      <td>4</td>\n",
       "      <td>2</td>\n",
       "      <td>3</td>\n",
       "      <td>1</td>\n",
       "      <td>0</td>\n",
       "      <td>0</td>\n",
       "      <td>0</td>\n",
       "      <td>1</td>\n",
       "      <td>2</td>\n",
       "      <td>1</td>\n",
       "      <td>furnished</td>\n",
       "    </tr>\n",
       "    <tr>\n",
       "      <th>1</th>\n",
       "      <td>12250000</td>\n",
       "      <td>8960</td>\n",
       "      <td>4</td>\n",
       "      <td>4</td>\n",
       "      <td>4</td>\n",
       "      <td>1</td>\n",
       "      <td>0</td>\n",
       "      <td>0</td>\n",
       "      <td>0</td>\n",
       "      <td>1</td>\n",
       "      <td>3</td>\n",
       "      <td>0</td>\n",
       "      <td>furnished</td>\n",
       "    </tr>\n",
       "    <tr>\n",
       "      <th>2</th>\n",
       "      <td>12250000</td>\n",
       "      <td>9960</td>\n",
       "      <td>3</td>\n",
       "      <td>2</td>\n",
       "      <td>2</td>\n",
       "      <td>1</td>\n",
       "      <td>0</td>\n",
       "      <td>1</td>\n",
       "      <td>0</td>\n",
       "      <td>0</td>\n",
       "      <td>2</td>\n",
       "      <td>1</td>\n",
       "      <td>semi-furnished</td>\n",
       "    </tr>\n",
       "    <tr>\n",
       "      <th>3</th>\n",
       "      <td>12215000</td>\n",
       "      <td>7500</td>\n",
       "      <td>4</td>\n",
       "      <td>2</td>\n",
       "      <td>2</td>\n",
       "      <td>1</td>\n",
       "      <td>0</td>\n",
       "      <td>1</td>\n",
       "      <td>0</td>\n",
       "      <td>1</td>\n",
       "      <td>3</td>\n",
       "      <td>1</td>\n",
       "      <td>furnished</td>\n",
       "    </tr>\n",
       "    <tr>\n",
       "      <th>4</th>\n",
       "      <td>11410000</td>\n",
       "      <td>7420</td>\n",
       "      <td>4</td>\n",
       "      <td>1</td>\n",
       "      <td>2</td>\n",
       "      <td>1</td>\n",
       "      <td>1</td>\n",
       "      <td>1</td>\n",
       "      <td>0</td>\n",
       "      <td>1</td>\n",
       "      <td>2</td>\n",
       "      <td>0</td>\n",
       "      <td>furnished</td>\n",
       "    </tr>\n",
       "  </tbody>\n",
       "</table>\n",
       "</div>"
      ],
      "text/plain": [
       "      price  area  bedrooms  bathrooms  stories  mainroad  guestroom  \\\n",
       "0  13300000  7420         4          2        3         1          0   \n",
       "1  12250000  8960         4          4        4         1          0   \n",
       "2  12250000  9960         3          2        2         1          0   \n",
       "3  12215000  7500         4          2        2         1          0   \n",
       "4  11410000  7420         4          1        2         1          1   \n",
       "\n",
       "   basement  hotwaterheating  airconditioning  parking  prefarea  \\\n",
       "0         0                0                1        2         1   \n",
       "1         0                0                1        3         0   \n",
       "2         1                0                0        2         1   \n",
       "3         1                0                1        3         1   \n",
       "4         1                0                1        2         0   \n",
       "\n",
       "  furnishingstatus  \n",
       "0        furnished  \n",
       "1        furnished  \n",
       "2   semi-furnished  \n",
       "3        furnished  \n",
       "4        furnished  "
      ]
     },
     "execution_count": 6,
     "metadata": {},
     "output_type": "execute_result"
    }
   ],
   "source": [
    "# The dataset has many columns with 'Yes' and 'No'\n",
    "\n",
    "# List of variable to map to numerical values.\n",
    "varlist = ['mainroad', 'guestroom', 'basement', 'hotwaterheating', \\\n",
    "           'airconditioning', 'prefarea']\n",
    "\n",
    "# Defining the map function\n",
    "def binary_map(x):\n",
    "    return x.map({'yes': 1, 'no': 0})\n",
    "\n",
    "# Applying the function to the housing list\n",
    "housing[varlist] = housing[varlist].apply(binary_map)\n",
    "\n",
    "# check the housing dataframe now\n",
    "housing.head()"
   ]
  },
  {
   "cell_type": "code",
   "execution_count": 7,
   "id": "7ee9a67b-ce5e-4ea9-8a07-8dc1cebfc912",
   "metadata": {
    "jupyter": {
     "source_hidden": true
    },
    "tags": []
   },
   "outputs": [],
   "source": [
    "# Helper function to reshape the input matrix as a column vector and append X0.\n",
    "def transform_and_append_X0(X, m, n):\n",
    "    # Reshape the input matrix as a column vector\n",
    "    X_ = X.reshape(m, n)\n",
    "\n",
    "    # Create the X0 column vector\n",
    "    X0 = np.ones((m, 1))\n",
    "\n",
    "    # Combine the input matrix with the X0 vector\n",
    "    X = np.hstack((X0, X_))\n",
    "    \n",
    "    return X"
   ]
  },
  {
   "cell_type": "code",
   "execution_count": 8,
   "id": "440508ba-29f1-4abd-addd-d009aacd73af",
   "metadata": {
    "jupyter": {
     "source_hidden": true
    },
    "tags": []
   },
   "outputs": [],
   "source": [
    "def compute_loss(X, y, m, theta):\n",
    "    \"\"\"\n",
    "    Compute loss for linear regression.\n",
    "    \n",
    "    Input Parameters\n",
    "    ----------------\n",
    "    X : mxn array where each row represent the training example and each column represent a feature\n",
    "        m= number of training examples\n",
    "        n= number of features (including X_0 column of ones)\n",
    "    y : 1D array of labels/target value for each training example. Dimension(m,1)\n",
    "    theta : nx1 array of fitting parameters or weights. Dimension (n,1)\n",
    "    \n",
    "    Output Parameters\n",
    "    -----------------\n",
    "    J : Scalar values. \n",
    "    \"\"\"\n",
    "    predictions = X.dot(theta) # predictions = h\n",
    "    errors = np.subtract(predictions, y)\n",
    "    sqrErrors = np.square(errors)\n",
    "    J = 1 / (2*m) * np.sum(sqrErrors)\n",
    "    \n",
    "    return J"
   ]
  },
  {
   "cell_type": "code",
   "execution_count": 9,
   "id": "286ecad4-0e71-4e8d-8508-221d0ec16ca0",
   "metadata": {},
   "outputs": [],
   "source": [
    "def compute_loss2(X, y, m, lam, theta):\n",
    "    \"\"\"\n",
    "    Compute loss for linear regression.\n",
    "    \n",
    "    Input Parameters\n",
    "    ----------------\n",
    "    X : mxn array where each row represent the training example and each column represent a feature\n",
    "        m= number of training examples\n",
    "        n= number of features (including X_0 column of ones)\n",
    "    y : 1D array of labels/target value for each training example. Dimension(m,1)\n",
    "    theta : nx1 array of fitting parameters or weights. Dimension (n,1)\n",
    "    \n",
    "    Output Parameters\n",
    "    -----------------\n",
    "    J : Scalar values. \n",
    "    \"\"\"\n",
    "    predictions = X.dot(theta) # predictions = h\n",
    "    errors = np.subtract(predictions, y)\n",
    "    sqrErrors = np.square(errors)\n",
    "    sqrTheta = np.square(theta[1:])\n",
    "    J = 1 / (2*m) * (np.sum(sqrErrors) + (lam*np.sum(sqrTheta)))\n",
    "    \n",
    "    return J"
   ]
  },
  {
   "cell_type": "code",
   "execution_count": 10,
   "id": "2aaaaf20-6e4e-4171-8804-22d3505f39fc",
   "metadata": {
    "jupyter": {
     "source_hidden": true
    },
    "tags": []
   },
   "outputs": [],
   "source": [
    "def gradient_descent(X_train, y_train, m_train, X_test, y_test, m_test, theta, alpha, iterations):\n",
    "    \"\"\"\n",
    "    Compute cost for linear regression.\n",
    "    \n",
    "    Input Parameters\n",
    "    ----------------\n",
    "    X : mxn array where each row represent the training example and each column represent a feature\n",
    "        m= number of training examples\n",
    "        n= number of features (including X_0 column of ones)\n",
    "    y : 1D array of labels/target value for each training example. Dimension(m,1)\n",
    "    theta : nx1 array of fitting parameters or weights. Dimension (n,1)\n",
    "    alpha : Learning rate. Scalar value.\n",
    "    iterations: Number of iterations. Scalar value.\n",
    "    \n",
    "    Output Parameters\n",
    "    -----------------\n",
    "    theta : Final value. 1xn array of fitting parameters of weights. Dimension (1xn)\n",
    "    cost_history : Contains value of cost for each iteration. Dimension (mx1)\n",
    "    \"\"\"\n",
    "    train_loss_history = np.zeros(iterations)\n",
    "    test_loss_history = np.zeros(iterations)\n",
    "    \n",
    "    for i in range(iterations):\n",
    "        predictions = X_train.dot(theta) # prediction (m,1)\n",
    "        errors = np.subtract(predictions, y_train) # Error (m,1) = temp\n",
    "        sum_delta = (alpha/m_train) * X_train.transpose().dot(errors) # sum_delta (n,1)\n",
    "        # print(\"sum delta\\n\", sum_delta)\n",
    "        theta = theta - sum_delta\n",
    "        train_loss_history[i] = compute_loss(X_train, y_train, m_train, theta)\n",
    "        test_loss_history[i] = compute_loss(X_test, y_test, m_test, theta)\n",
    "    \n",
    "    return theta, train_loss_history, test_loss_history"
   ]
  },
  {
   "cell_type": "code",
   "execution_count": 11,
   "id": "b8f21699-de30-4fbf-b3e2-b35b02c487d3",
   "metadata": {
    "tags": []
   },
   "outputs": [],
   "source": [
    "def gradient_descent2(X_train, y_train, m_train, X_test, y_test, m_test, theta, alpha, lam, iterations):\n",
    "    \"\"\"\n",
    "    Compute cost for linear regression.\n",
    "    \n",
    "    Input Parameters\n",
    "    ----------------\n",
    "    X : mxn array where each row represent the training example and each column represent a feature\n",
    "        m= number of training examples\n",
    "        n= number of features (including X_0 column of ones)\n",
    "    y : 1D array of labels/target value for each training example. Dimension(m,1)\n",
    "    theta : nx1 array of fitting parameters or weights. Dimension (n,1)\n",
    "    alpha : Learning rate. Scalar value.\n",
    "    iterations: Number of iterations. Scalar value.\n",
    "    \n",
    "    Output Parameters\n",
    "    -----------------\n",
    "    theta : Final value. 1xn array of fitting parameters of weights. Dimension (1xn)\n",
    "    cost_history : Contains value of cost for each iteration. Dimension (mx1)\n",
    "    \"\"\"\n",
    "    train_loss_history = np.zeros(iterations)\n",
    "    test_loss_history = np.zeros(iterations)\n",
    "    \n",
    "    for i in range(iterations):\n",
    "        predictions = X_train.dot(theta) # prediction (m,1)\n",
    "        errors = np.subtract(predictions, y_train) # Error (m,1) = temp\n",
    "        sum_delta = (alpha/m_train) * X_train.transpose().dot(errors) # sum_delta (n,1)\n",
    "\n",
    "        theta[0] = theta[0] - sum_delta[0]\n",
    "        theta[1:] = (1 - (alpha*(lam/m_train)))*theta[1:] - sum_delta[1:]\n",
    "        \n",
    "        print(\"Theta values\\n\", theta)\n",
    "        \n",
    "        train_loss_history[i] = compute_loss2(X_train, y_train, m_train, lam, theta)\n",
    "        test_loss_history[i] = compute_loss(X_test, y_test, m_test, theta)\n",
    "    \n",
    "    return theta, train_loss_history, test_loss_history"
   ]
  },
  {
   "cell_type": "code",
   "execution_count": 12,
   "id": "482fa4e4-2fc7-40de-ae23-8b4770d9265d",
   "metadata": {},
   "outputs": [],
   "source": [
    "# Linear regression with three explanatory variables\n",
    "def RunLinearRegression2(X_train, y_train, X_test, y_test, alpha, lam, iterations):\n",
    "    \n",
    "    # Get train set dimensions\n",
    "    m_train = len(X_train)\n",
    "    n_train = len(X_train[0, :])\n",
    "    \n",
    "    # Get test set dimensions\n",
    "    m_test = len(X_test)\n",
    "    n_test = len(X_test[0, :])\n",
    "    \n",
    "    # Check if number of features in test set is the same as train set\n",
    "    if n_test != n_train:\n",
    "        return \"Error: Check your number of features!\"\n",
    "\n",
    "    # Reshape the input matrix as a column vector and append X0.\n",
    "    X_train = transform_and_append_X0(X_train, m_train, n_train)\n",
    "    X_test = transform_and_append_X0(X_test, m_test, n_test)\n",
    "\n",
    "    # Initialize the theta parameters\n",
    "    theta = np.zeros((n_train+1, 1))\n",
    "\n",
    "    # compute the train cost for theta values\n",
    "    train_loss = compute_loss2(X_train, y_train, m_train, lam, theta)\n",
    "    print('Initial train set cost for given values of thetas =', train_loss)\n",
    "    \n",
    "    # compute the test cost for theta values\n",
    "    test_loss = compute_loss(X_test, y_test, m_test, theta)\n",
    "    print('Initial test set cost for given values of thetas =', test_loss)\n",
    "\n",
    "    # Initialize theta.\n",
    "    theta = [0.]*(n_train+1)\n",
    "\n",
    "    # Run the gradient descent with the given parameter\n",
    "    theta, train_loss_history, test_loss_history = gradient_descent2(X_train, y_train, m_train, \n",
    "                                                                    X_test, y_test, m_test,\n",
    "                                                                    theta, alpha, lam, iterations)\n",
    "    print('Final value of theta\\n', theta)\n",
    "    print('Last ten train Loss history\\n', train_loss_history[iterations-10:])\n",
    "    print('Last ten test Loss history\\n', test_loss_history[iterations-10:])\n",
    "    return train_loss_history, test_loss_history\n"
   ]
  },
  {
   "cell_type": "code",
   "execution_count": 13,
   "id": "c72de8dd-7015-4ca6-a237-12363dec716f",
   "metadata": {},
   "outputs": [
    {
     "data": {
      "text/plain": [
       "(436, 13)"
      ]
     },
     "execution_count": 13,
     "metadata": {},
     "output_type": "execute_result"
    }
   ],
   "source": [
    "# Split the Data into training and testing sets\n",
    "from sklearn.model_selection import train_test_split\n",
    "\n",
    "# We specify this so that the train and test data set always have the\n",
    "# the same rows, respectively \n",
    "np.random.seed(42)\n",
    "df_train, df_test = train_test_split(housing, train_size=0.8,\n",
    "                                     test_size=0.2)\n",
    "df_train.shape"
   ]
  },
  {
   "cell_type": "code",
   "execution_count": 14,
   "id": "605aa798-b007-456f-81ec-cb65f4973559",
   "metadata": {},
   "outputs": [
    {
     "data": {
      "text/plain": [
       "(109, 13)"
      ]
     },
     "execution_count": 14,
     "metadata": {},
     "output_type": "execute_result"
    }
   ],
   "source": [
    "df_test.shape"
   ]
  },
  {
   "cell_type": "markdown",
   "id": "0140ea87-117a-4d16-a54a-0d1cb9875f7d",
   "metadata": {},
   "source": [
    "## Problem 2.a\n",
    "### Using MinMaxScaler"
   ]
  },
  {
   "cell_type": "code",
   "execution_count": 15,
   "id": "0c73970f-e342-4120-8299-785a97abdab9",
   "metadata": {},
   "outputs": [
    {
     "data": {
      "text/html": [
       "<div>\n",
       "<style scoped>\n",
       "    .dataframe tbody tr th:only-of-type {\n",
       "        vertical-align: middle;\n",
       "    }\n",
       "\n",
       "    .dataframe tbody tr th {\n",
       "        vertical-align: top;\n",
       "    }\n",
       "\n",
       "    .dataframe thead th {\n",
       "        text-align: right;\n",
       "    }\n",
       "</style>\n",
       "<table border=\"1\" class=\"dataframe\">\n",
       "  <thead>\n",
       "    <tr style=\"text-align: right;\">\n",
       "      <th></th>\n",
       "      <th>area</th>\n",
       "      <th>bedrooms</th>\n",
       "      <th>bathrooms</th>\n",
       "      <th>stories</th>\n",
       "      <th>parking</th>\n",
       "      <th>price</th>\n",
       "    </tr>\n",
       "  </thead>\n",
       "  <tbody>\n",
       "    <tr>\n",
       "      <th>46</th>\n",
       "      <td>6000</td>\n",
       "      <td>3</td>\n",
       "      <td>2</td>\n",
       "      <td>4</td>\n",
       "      <td>1</td>\n",
       "      <td>7525000</td>\n",
       "    </tr>\n",
       "    <tr>\n",
       "      <th>93</th>\n",
       "      <td>7200</td>\n",
       "      <td>3</td>\n",
       "      <td>2</td>\n",
       "      <td>1</td>\n",
       "      <td>3</td>\n",
       "      <td>6300000</td>\n",
       "    </tr>\n",
       "    <tr>\n",
       "      <th>335</th>\n",
       "      <td>3816</td>\n",
       "      <td>2</td>\n",
       "      <td>1</td>\n",
       "      <td>1</td>\n",
       "      <td>2</td>\n",
       "      <td>3920000</td>\n",
       "    </tr>\n",
       "    <tr>\n",
       "      <th>412</th>\n",
       "      <td>2610</td>\n",
       "      <td>3</td>\n",
       "      <td>1</td>\n",
       "      <td>2</td>\n",
       "      <td>0</td>\n",
       "      <td>3430000</td>\n",
       "    </tr>\n",
       "    <tr>\n",
       "      <th>471</th>\n",
       "      <td>3750</td>\n",
       "      <td>3</td>\n",
       "      <td>1</td>\n",
       "      <td>2</td>\n",
       "      <td>0</td>\n",
       "      <td>3010000</td>\n",
       "    </tr>\n",
       "  </tbody>\n",
       "</table>\n",
       "</div>"
      ],
      "text/plain": [
       "     area  bedrooms  bathrooms  stories  parking    price\n",
       "46   6000         3          2        4        1  7525000\n",
       "93   7200         3          2        1        3  6300000\n",
       "335  3816         2          1        1        2  3920000\n",
       "412  2610         3          1        2        0  3430000\n",
       "471  3750         3          1        2        0  3010000"
      ]
     },
     "execution_count": 15,
     "metadata": {},
     "output_type": "execute_result"
    }
   ],
   "source": [
    "num_vars = ['area', 'bedrooms', 'bathrooms', \\\n",
    "            'stories', 'parking', 'price']\n",
    "\n",
    "df_new_train = df_train[num_vars]\n",
    "df_new_test = df_test[num_vars]\n",
    "df_new_train.head()"
   ]
  },
  {
   "cell_type": "code",
   "execution_count": 16,
   "id": "ea50f390-04ff-4dcd-b97f-8c9adb0e28f0",
   "metadata": {
    "tags": []
   },
   "outputs": [],
   "source": [
    "# Initialize the MinMaxScaler\n",
    "scaler = MinMaxScaler() \n",
    "\n",
    "# Normalized train set\n",
    "df_new_train[num_vars] = scaler.fit_transform(df_new_train[num_vars])\n",
    "\n",
    "# Normalized test set\n",
    "df_new_test[num_vars] = scaler.fit_transform(df_new_test[num_vars])\n",
    "\n",
    "# split features and labels in train set\n",
    "y_norm_train = df_new_train.pop('price')\n",
    "X_norm_train = df_new_train.copy()\n",
    "\n",
    "# split features and labels in test set\n",
    "y_norm_test = df_new_test.pop('price')\n",
    "X_norm_test = df_new_test.copy()\n",
    "\n",
    "# Extract values from train set dataframes\n",
    "y_train = y_norm_train.values\n",
    "X_train = X_norm_train.values\n",
    "\n",
    "# Extract values from test set dataframes\n",
    "y_test = y_norm_test.values\n",
    "X_test = X_norm_test.values"
   ]
  },
  {
   "cell_type": "code",
   "execution_count": 17,
   "id": "4a7738a9-1675-4655-a98b-c22e0fc5cd97",
   "metadata": {},
   "outputs": [],
   "source": [
    "# initialize alpha and number of iterations\n",
    "alpha = 0.05\n",
    "lam = 0\n",
    "iterations = 10000"
   ]
  },
  {
   "cell_type": "code",
   "execution_count": 18,
   "id": "aa33146a-a106-4837-81fc-cee7b05cb0a8",
   "metadata": {},
   "outputs": [
    {
     "name": "stdout",
     "output_type": "stream",
     "text": [
      "Initial train set cost for given values of thetas = 23.38076507586667\n",
      "Initial test set cost for given values of thetas = 6.400204637281909\n"
     ]
    },
    {
     "ename": "TypeError",
     "evalue": "can't multiply sequence by non-int of type 'float'",
     "output_type": "error",
     "traceback": [
      "\u001b[1;31m---------------------------------------------------------------------------\u001b[0m",
      "\u001b[1;31mTypeError\u001b[0m                                 Traceback (most recent call last)",
      "Input \u001b[1;32mIn [18]\u001b[0m, in \u001b[0;36m<cell line: 2>\u001b[1;34m()\u001b[0m\n\u001b[0;32m      1\u001b[0m \u001b[38;5;66;03m# Evaluate loss for on training set\u001b[39;00m\n\u001b[1;32m----> 2\u001b[0m train_loss_history, test_loss_history \u001b[38;5;241m=\u001b[39m \u001b[43mRunLinearRegression2\u001b[49m\u001b[43m(\u001b[49m\u001b[43mX_train\u001b[49m\u001b[43m,\u001b[49m\u001b[43m \u001b[49m\u001b[43my_train\u001b[49m\u001b[43m,\u001b[49m\u001b[43m \u001b[49m\u001b[43mX_test\u001b[49m\u001b[43m,\u001b[49m\u001b[43m \u001b[49m\u001b[43my_test\u001b[49m\u001b[43m,\u001b[49m\u001b[43m \u001b[49m\u001b[43malpha\u001b[49m\u001b[43m,\u001b[49m\u001b[43m \u001b[49m\u001b[43mlam\u001b[49m\u001b[43m,\u001b[49m\u001b[43m \u001b[49m\u001b[43miterations\u001b[49m\u001b[43m)\u001b[49m\n",
      "Input \u001b[1;32mIn [12]\u001b[0m, in \u001b[0;36mRunLinearRegression2\u001b[1;34m(X_train, y_train, X_test, y_test, alpha, lam, iterations)\u001b[0m\n\u001b[0;32m     32\u001b[0m theta \u001b[38;5;241m=\u001b[39m [\u001b[38;5;241m0.\u001b[39m]\u001b[38;5;241m*\u001b[39m(n_train\u001b[38;5;241m+\u001b[39m\u001b[38;5;241m1\u001b[39m)\n\u001b[0;32m     34\u001b[0m \u001b[38;5;66;03m# Run the gradient descent with the given parameter\u001b[39;00m\n\u001b[1;32m---> 35\u001b[0m theta, train_loss_history, test_loss_history \u001b[38;5;241m=\u001b[39m \u001b[43mgradient_descent2\u001b[49m\u001b[43m(\u001b[49m\u001b[43mX_train\u001b[49m\u001b[43m,\u001b[49m\u001b[43m \u001b[49m\u001b[43my_train\u001b[49m\u001b[43m,\u001b[49m\u001b[43m \u001b[49m\u001b[43mm_train\u001b[49m\u001b[43m,\u001b[49m\u001b[43m \u001b[49m\n\u001b[0;32m     36\u001b[0m \u001b[43m                                                                \u001b[49m\u001b[43mX_test\u001b[49m\u001b[43m,\u001b[49m\u001b[43m \u001b[49m\u001b[43my_test\u001b[49m\u001b[43m,\u001b[49m\u001b[43m \u001b[49m\u001b[43mm_test\u001b[49m\u001b[43m,\u001b[49m\n\u001b[0;32m     37\u001b[0m \u001b[43m                                                                \u001b[49m\u001b[43mtheta\u001b[49m\u001b[43m,\u001b[49m\u001b[43m \u001b[49m\u001b[43malpha\u001b[49m\u001b[43m,\u001b[49m\u001b[43m \u001b[49m\u001b[43mlam\u001b[49m\u001b[43m,\u001b[49m\u001b[43m \u001b[49m\u001b[43miterations\u001b[49m\u001b[43m)\u001b[49m\n\u001b[0;32m     38\u001b[0m \u001b[38;5;28mprint\u001b[39m(\u001b[38;5;124m'\u001b[39m\u001b[38;5;124mFinal value of theta\u001b[39m\u001b[38;5;130;01m\\n\u001b[39;00m\u001b[38;5;124m'\u001b[39m, theta)\n\u001b[0;32m     39\u001b[0m \u001b[38;5;28mprint\u001b[39m(\u001b[38;5;124m'\u001b[39m\u001b[38;5;124mLast ten train Loss history\u001b[39m\u001b[38;5;130;01m\\n\u001b[39;00m\u001b[38;5;124m'\u001b[39m, train_loss_history[iterations\u001b[38;5;241m-\u001b[39m\u001b[38;5;241m10\u001b[39m:])\n",
      "Input \u001b[1;32mIn [11]\u001b[0m, in \u001b[0;36mgradient_descent2\u001b[1;34m(X_train, y_train, m_train, X_test, y_test, m_test, theta, alpha, lam, iterations)\u001b[0m\n\u001b[0;32m     26\u001b[0m sum_delta \u001b[38;5;241m=\u001b[39m (alpha\u001b[38;5;241m/\u001b[39mm_train) \u001b[38;5;241m*\u001b[39m X_train\u001b[38;5;241m.\u001b[39mtranspose()\u001b[38;5;241m.\u001b[39mdot(errors) \u001b[38;5;66;03m# sum_delta (n,1)\u001b[39;00m\n\u001b[0;32m     28\u001b[0m theta[\u001b[38;5;241m0\u001b[39m] \u001b[38;5;241m=\u001b[39m theta[\u001b[38;5;241m0\u001b[39m] \u001b[38;5;241m-\u001b[39m sum_delta[\u001b[38;5;241m0\u001b[39m]\n\u001b[1;32m---> 29\u001b[0m theta[\u001b[38;5;241m1\u001b[39m:] \u001b[38;5;241m=\u001b[39m \u001b[43mtheta\u001b[49m\u001b[43m[\u001b[49m\u001b[38;5;241;43m1\u001b[39;49m\u001b[43m:\u001b[49m\u001b[43m]\u001b[49m\u001b[38;5;241;43m*\u001b[39;49m\u001b[43m(\u001b[49m\u001b[38;5;241;43m1\u001b[39;49m\u001b[43m \u001b[49m\u001b[38;5;241;43m-\u001b[39;49m\u001b[43m \u001b[49m\u001b[43m(\u001b[49m\u001b[43malpha\u001b[49m\u001b[38;5;241;43m*\u001b[39;49m\u001b[43m(\u001b[49m\u001b[43mlam\u001b[49m\u001b[38;5;241;43m/\u001b[39;49m\u001b[43mm_train\u001b[49m\u001b[43m)\u001b[49m\u001b[43m)\u001b[49m\u001b[43m)\u001b[49m \u001b[38;5;241m-\u001b[39m sum_delta[\u001b[38;5;241m1\u001b[39m:]\n\u001b[0;32m     31\u001b[0m \u001b[38;5;28mprint\u001b[39m(\u001b[38;5;124m\"\u001b[39m\u001b[38;5;124mTheta values\u001b[39m\u001b[38;5;130;01m\\n\u001b[39;00m\u001b[38;5;124m\"\u001b[39m, theta)\n\u001b[0;32m     33\u001b[0m train_loss_history[i] \u001b[38;5;241m=\u001b[39m compute_loss2(X_train, y_train, m_train, lam, theta)\n",
      "\u001b[1;31mTypeError\u001b[0m: can't multiply sequence by non-int of type 'float'"
     ]
    }
   ],
   "source": [
    "# Evaluate loss for on training set\n",
    "train_loss_history, test_loss_history = RunLinearRegression2(X_train, y_train, X_test, y_test, alpha, lam, iterations)"
   ]
  },
  {
   "cell_type": "code",
   "execution_count": null,
   "id": "a33d9ffc-4cad-4793-a8df-ae16d796a09d",
   "metadata": {},
   "outputs": [],
   "source": [
    "# plot the loss history\n",
    "plt.plot(range(1, iterations+1), train_loss_history, color='blue')\n",
    "plt.plot(range(1, iterations+1), test_loss_history, color='red')\n",
    "plt.rcParams[\"figure.figsize\"] = (10,6)\n",
    "plt.grid()\n",
    "plt.xlabel('Number of iterations')\n",
    "plt.ylabel('Cost (J)')\n",
    "plt.title('Convergence of gradient descent')\n",
    "plt.show()"
   ]
  },
  {
   "cell_type": "code",
   "execution_count": null,
   "id": "b615591d-f619-495d-a7d1-69630df08bc2",
   "metadata": {},
   "outputs": [],
   "source": []
  }
 ],
 "metadata": {
  "kernelspec": {
   "display_name": "Python 3 (ipykernel)",
   "language": "python",
   "name": "python3"
  },
  "language_info": {
   "codemirror_mode": {
    "name": "ipython",
    "version": 3
   },
   "file_extension": ".py",
   "mimetype": "text/x-python",
   "name": "python",
   "nbconvert_exporter": "python",
   "pygments_lexer": "ipython3",
   "version": "3.9.12"
  }
 },
 "nbformat": 4,
 "nbformat_minor": 5
}
